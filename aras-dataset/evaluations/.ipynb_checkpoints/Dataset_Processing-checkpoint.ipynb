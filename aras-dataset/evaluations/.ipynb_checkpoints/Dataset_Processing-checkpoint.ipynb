{
 "cells": [
  {
   "cell_type": "markdown",
   "id": "dedcada3",
   "metadata": {},
   "source": [
    "# Import libraries"
   ]
  },
  {
   "cell_type": "code",
   "execution_count": 1,
   "id": "c6dc0af9",
   "metadata": {},
   "outputs": [],
   "source": [
    "import pandas as pd\n",
    "import numpy as np\n",
    "import math\n",
    "import os\n",
    "import warnings\n",
    "warnings.filterwarnings(\"ignore\")"
   ]
  },
  {
   "cell_type": "markdown",
   "id": "89f17a61",
   "metadata": {},
   "source": [
    "# Current and parent directories"
   ]
  },
  {
   "cell_type": "code",
   "execution_count": 2,
   "id": "95fb55c0",
   "metadata": {},
   "outputs": [],
   "source": [
    "current_directory = os.getcwd()\n",
    "parent_directory = os.path.dirname(current_directory)"
   ]
  },
  {
   "cell_type": "markdown",
   "id": "654be3f5",
   "metadata": {},
   "source": [
    "# Read activity information"
   ]
  },
  {
   "cell_type": "code",
   "execution_count": 3,
   "id": "280ad17f",
   "metadata": {},
   "outputs": [
    {
     "data": {
      "text/html": [
       "<div>\n",
       "<style scoped>\n",
       "    .dataframe tbody tr th:only-of-type {\n",
       "        vertical-align: middle;\n",
       "    }\n",
       "\n",
       "    .dataframe tbody tr th {\n",
       "        vertical-align: top;\n",
       "    }\n",
       "\n",
       "    .dataframe thead th {\n",
       "        text-align: right;\n",
       "    }\n",
       "</style>\n",
       "<table border=\"1\" class=\"dataframe\">\n",
       "  <thead>\n",
       "    <tr style=\"text-align: right;\">\n",
       "      <th></th>\n",
       "      <th>Activity ID</th>\n",
       "      <th>Acitivity</th>\n",
       "      <th>Zone ID</th>\n",
       "      <th>Zone</th>\n",
       "      <th>Physical activity levels (M) (met)</th>\n",
       "      <th>Scale of CO2 Generation for 21-30 age group (L/s)</th>\n",
       "      <th>CO2 Emission by Occupant (L/s)</th>\n",
       "      <th>CO2 Emission by Occupant (CFM)</th>\n",
       "      <th>Heat Radiation by Occupant (kW)</th>\n",
       "      <th>Heat Radiation by Occupant (W)</th>\n",
       "    </tr>\n",
       "  </thead>\n",
       "  <tbody>\n",
       "    <tr>\n",
       "      <th>0</th>\n",
       "      <td>1</td>\n",
       "      <td>Other</td>\n",
       "      <td>0</td>\n",
       "      <td>Outside</td>\n",
       "      <td>0.0</td>\n",
       "      <td>0.0039</td>\n",
       "      <td>0.00000</td>\n",
       "      <td>0.000000</td>\n",
       "      <td>0.000000</td>\n",
       "      <td>0.000000</td>\n",
       "    </tr>\n",
       "    <tr>\n",
       "      <th>1</th>\n",
       "      <td>2</td>\n",
       "      <td>Going Out</td>\n",
       "      <td>0</td>\n",
       "      <td>Outside</td>\n",
       "      <td>0.0</td>\n",
       "      <td>0.0039</td>\n",
       "      <td>0.00000</td>\n",
       "      <td>0.000000</td>\n",
       "      <td>0.000000</td>\n",
       "      <td>0.000000</td>\n",
       "    </tr>\n",
       "    <tr>\n",
       "      <th>2</th>\n",
       "      <td>3</td>\n",
       "      <td>Preparing Breakfast</td>\n",
       "      <td>3</td>\n",
       "      <td>Kitchen</td>\n",
       "      <td>3.3</td>\n",
       "      <td>0.0039</td>\n",
       "      <td>0.01287</td>\n",
       "      <td>0.027272</td>\n",
       "      <td>0.133494</td>\n",
       "      <td>133.494139</td>\n",
       "    </tr>\n",
       "    <tr>\n",
       "      <th>3</th>\n",
       "      <td>4</td>\n",
       "      <td>Having Breakfast</td>\n",
       "      <td>3</td>\n",
       "      <td>Kitchen</td>\n",
       "      <td>2.8</td>\n",
       "      <td>0.0039</td>\n",
       "      <td>0.01092</td>\n",
       "      <td>0.023139</td>\n",
       "      <td>0.113268</td>\n",
       "      <td>113.267755</td>\n",
       "    </tr>\n",
       "    <tr>\n",
       "      <th>4</th>\n",
       "      <td>5</td>\n",
       "      <td>Preparing Lunch</td>\n",
       "      <td>3</td>\n",
       "      <td>Kitchen</td>\n",
       "      <td>3.3</td>\n",
       "      <td>0.0039</td>\n",
       "      <td>0.01287</td>\n",
       "      <td>0.027272</td>\n",
       "      <td>0.133494</td>\n",
       "      <td>133.494139</td>\n",
       "    </tr>\n",
       "  </tbody>\n",
       "</table>\n",
       "</div>"
      ],
      "text/plain": [
       "   Activity ID            Acitivity  Zone ID     Zone  \\\n",
       "0            1                Other        0  Outside   \n",
       "1            2            Going Out        0  Outside   \n",
       "2            3  Preparing Breakfast        3  Kitchen   \n",
       "3            4     Having Breakfast        3  Kitchen   \n",
       "4            5      Preparing Lunch        3  Kitchen   \n",
       "\n",
       "   Physical activity levels (M) (met)  \\\n",
       "0                                 0.0   \n",
       "1                                 0.0   \n",
       "2                                 3.3   \n",
       "3                                 2.8   \n",
       "4                                 3.3   \n",
       "\n",
       "   Scale of CO2 Generation for 21-30 age group (L/s)  \\\n",
       "0                                             0.0039   \n",
       "1                                             0.0039   \n",
       "2                                             0.0039   \n",
       "3                                             0.0039   \n",
       "4                                             0.0039   \n",
       "\n",
       "   CO2 Emission by Occupant (L/s)  CO2 Emission by Occupant (CFM)  \\\n",
       "0                         0.00000                        0.000000   \n",
       "1                         0.00000                        0.000000   \n",
       "2                         0.01287                        0.027272   \n",
       "3                         0.01092                        0.023139   \n",
       "4                         0.01287                        0.027272   \n",
       "\n",
       "   Heat Radiation by Occupant (kW)  Heat Radiation by Occupant (W)  \n",
       "0                         0.000000                        0.000000  \n",
       "1                         0.000000                        0.000000  \n",
       "2                         0.133494                      133.494139  \n",
       "3                         0.113268                      113.267755  \n",
       "4                         0.133494                      133.494139  "
      ]
     },
     "execution_count": 3,
     "metadata": {},
     "output_type": "execute_result"
    }
   ],
   "source": [
    "activities = pd.read_excel(str(parent_directory) + '/data/Aras-Information.xlsx', sheet_name='Activity-Info')\n",
    "activities.head()"
   ]
  },
  {
   "cell_type": "markdown",
   "id": "7232ef55",
   "metadata": {},
   "source": [
    "# Accessing activity-zone mapping information"
   ]
  },
  {
   "cell_type": "code",
   "execution_count": 4,
   "id": "0e8ee688",
   "metadata": {},
   "outputs": [],
   "source": [
    "activity_zone_map = dict()\n",
    "for i in range(len(activities)):\n",
    "    activity_zone_map[int(activities[\"Activity ID\"][i])] = int(activities[\"Zone ID\"][i])"
   ]
  },
  {
   "cell_type": "markdown",
   "id": "f00f6572",
   "metadata": {},
   "source": [
    "# Fixed parameters"
   ]
  },
  {
   "cell_type": "code",
   "execution_count": 5,
   "id": "803b9efd",
   "metadata": {},
   "outputs": [],
   "source": [
    "NUM_DAYS = 30\n",
    "NUM_ACTIVITIES = len(activities)"
   ]
  },
  {
   "cell_type": "markdown",
   "id": "437209a6",
   "metadata": {},
   "source": [
    "# Dataset processing function"
   ]
  },
  {
   "cell_type": "code",
   "execution_count": 6,
   "id": "8774d0d6",
   "metadata": {},
   "outputs": [],
   "source": [
    "def dataset_processing(input_directory, house_name, output_filename):\n",
    "    \n",
    "    dataframe = pd.DataFrame(columns = ['Day', 'Minute', 'Occupant 1 Activity', 'Occupant 2 Activity'])\n",
    "\n",
    "    for day in range(1, NUM_DAYS + 1):    \n",
    "\n",
    "        records = []\n",
    "\n",
    "        print(\"Processed ...\", \"House\", house_name, \"Day\", day)\n",
    "        # Importing dataset\n",
    "        raw_data_filename = str(input_directory) + str(day) + '.txt'\n",
    "        raw_dataframe =  pd.read_csv(str(raw_data_filename), header=None, sep = ' ').iloc[:, -2:]  \n",
    "\n",
    "        # Establishing column names to make it easier to work with\n",
    "        raw_dataframe.columns = ['Occ-1','Occ-2']\n",
    "\n",
    "        # We will just work with the specified occupant in the function argument\n",
    "        activities_occupant = raw_dataframe.values.tolist()\n",
    "\n",
    "        for i in range(0, len(activities_occupant), 60):\n",
    "            activities_occupant_1_id = activities_occupant[i][0]\n",
    "            activities_occupant_2_id = activities_occupant[i][1]\n",
    "            records.append([day, int(i/60), activities_occupant_1_id, activities_occupant_2_id])\n",
    "\n",
    "        dataframe = dataframe.append(pd.DataFrame(records, columns=dataframe.columns), ignore_index=True)\n",
    "\n",
    "    dataframe = dataframe.reset_index(drop = True)\n",
    "    dataframe.to_csv(output_filename, index = False)"
   ]
  },
  {
   "cell_type": "markdown",
   "id": "8e24e190",
   "metadata": {},
   "source": [
    "# Creating processed dataframe for both houses and all occupants"
   ]
  },
  {
   "cell_type": "code",
   "execution_count": 7,
   "id": "56d91b75",
   "metadata": {},
   "outputs": [
    {
     "name": "stdout",
     "output_type": "stream",
     "text": [
      "Processed ... House A Day 1\n",
      "Processed ... House A Day 2\n",
      "Processed ... House A Day 3\n",
      "Processed ... House A Day 4\n",
      "Processed ... House A Day 5\n",
      "Processed ... House A Day 6\n",
      "Processed ... House A Day 7\n",
      "Processed ... House A Day 8\n",
      "Processed ... House A Day 9\n",
      "Processed ... House A Day 10\n",
      "Processed ... House A Day 11\n",
      "Processed ... House A Day 12\n",
      "Processed ... House A Day 13\n",
      "Processed ... House A Day 14\n",
      "Processed ... House A Day 15\n",
      "Processed ... House A Day 16\n",
      "Processed ... House A Day 17\n",
      "Processed ... House A Day 18\n",
      "Processed ... House A Day 19\n",
      "Processed ... House A Day 20\n",
      "Processed ... House A Day 21\n",
      "Processed ... House A Day 22\n",
      "Processed ... House A Day 23\n",
      "Processed ... House A Day 24\n",
      "Processed ... House A Day 25\n",
      "Processed ... House A Day 26\n",
      "Processed ... House A Day 27\n",
      "Processed ... House A Day 28\n",
      "Processed ... House A Day 29\n",
      "Processed ... House A Day 30\n",
      "Processed ... House B Day 1\n",
      "Processed ... House B Day 2\n",
      "Processed ... House B Day 3\n",
      "Processed ... House B Day 4\n",
      "Processed ... House B Day 5\n",
      "Processed ... House B Day 6\n",
      "Processed ... House B Day 7\n",
      "Processed ... House B Day 8\n",
      "Processed ... House B Day 9\n",
      "Processed ... House B Day 10\n",
      "Processed ... House B Day 11\n",
      "Processed ... House B Day 12\n",
      "Processed ... House B Day 13\n",
      "Processed ... House B Day 14\n",
      "Processed ... House B Day 15\n",
      "Processed ... House B Day 16\n",
      "Processed ... House B Day 17\n",
      "Processed ... House B Day 18\n",
      "Processed ... House B Day 19\n",
      "Processed ... House B Day 20\n",
      "Processed ... House B Day 21\n",
      "Processed ... House B Day 22\n",
      "Processed ... House B Day 23\n",
      "Processed ... House B Day 24\n",
      "Processed ... House B Day 25\n",
      "Processed ... House B Day 26\n",
      "Processed ... House B Day 27\n",
      "Processed ... House B Day 28\n",
      "Processed ... House B Day 29\n",
      "Processed ... House B Day 30\n"
     ]
    }
   ],
   "source": [
    "for house_name in ['A', 'B']:\n",
    "    input_directory = str(parent_directory) + '\\data\\\\raw\\\\house-' + house_name + '\\\\DAY-'\n",
    "    output_filename = str(parent_directory) + '\\data\\\\processed\\\\' + 'Processed-Dataframe_House-' + str(house_name) + '.csv'\n",
    "    dataset_processing(input_directory, house_name, output_filename)"
   ]
  }
 ],
 "metadata": {
  "kernelspec": {
   "display_name": "Python 3 (ipykernel)",
   "language": "python",
   "name": "python3"
  },
  "language_info": {
   "codemirror_mode": {
    "name": "ipython",
    "version": 3
   },
   "file_extension": ".py",
   "mimetype": "text/x-python",
   "name": "python",
   "nbconvert_exporter": "python",
   "pygments_lexer": "ipython3",
   "version": "3.9.13"
  }
 },
 "nbformat": 4,
 "nbformat_minor": 5
}
