{
 "cells": [
  {
   "cell_type": "markdown",
   "id": "e72ba809",
   "metadata": {},
   "source": [
    "# Import libraries"
   ]
  },
  {
   "cell_type": "code",
   "execution_count": 1,
   "id": "a0071443",
   "metadata": {},
   "outputs": [],
   "source": [
    "import pandas as pd\n",
    "import numpy as np\n",
    "import math\n",
    "import os\n",
    "import sys\n",
    "sys.path.append(\"../scripts/\")\n",
    "from HyperparameterTuning import *"
   ]
  },
  {
   "cell_type": "markdown",
   "id": "ad41bab6",
   "metadata": {},
   "source": [
    "# Current and parent directories"
   ]
  },
  {
   "cell_type": "code",
   "execution_count": 2,
   "id": "2f959ae7",
   "metadata": {},
   "outputs": [],
   "source": [
    "current_directory = os.getcwd()\n",
    "parent_directory = os.path.dirname(current_directory)"
   ]
  },
  {
   "cell_type": "markdown",
   "id": "f066c9ad",
   "metadata": {},
   "source": [
    "# Read zone information"
   ]
  },
  {
   "cell_type": "code",
   "execution_count": 3,
   "id": "a23de9b7",
   "metadata": {},
   "outputs": [],
   "source": [
    "zones = pd.read_excel(str(parent_directory) + '/data/Aras-Information.xlsx', sheet_name='Zone-Info')\n",
    "num_zones = len(zones)"
   ]
  },
  {
   "cell_type": "markdown",
   "id": "6d340b48",
   "metadata": {},
   "source": [
    "# Save best hyperparameters for all houses and occupants"
   ]
  },
  {
   "cell_type": "code",
   "execution_count": 4,
   "id": "02248e9a",
   "metadata": {},
   "outputs": [
    {
     "name": "stdout",
     "output_type": "stream",
     "text": [
      "House: A, Occupant: 1, ADM Algo: DBSCAN, Knowledge: Full, Zone: 0, Best Hyperparameters: {'best_eps': 18, 'best_samples': 5}\n",
      "House: A, Occupant: 1, ADM Algo: DBSCAN, Knowledge: Full, Zone: 1, Best Hyperparameters: {'best_eps': 11, 'best_samples': 5}\n",
      "House: A, Occupant: 1, ADM Algo: DBSCAN, Knowledge: Full, Zone: 2, Best Hyperparameters: {'best_eps': 12, 'best_samples': 4}\n",
      "House: A, Occupant: 1, ADM Algo: DBSCAN, Knowledge: Full, Zone: 3, Best Hyperparameters: {'best_eps': 11, 'best_samples': 5}\n",
      "House: A, Occupant: 1, ADM Algo: DBSCAN, Knowledge: Full, Zone: 4, Best Hyperparameters: {'best_eps': 20, 'best_samples': 5}\n",
      "House: A, Occupant: 1, ADM Algo: DBSCAN, Knowledge: Partial, Zone: 0, Best Hyperparameters: {'best_eps': 24, 'best_samples': 5}\n",
      "House: A, Occupant: 1, ADM Algo: DBSCAN, Knowledge: Partial, Zone: 1, Best Hyperparameters: {'best_eps': 33, 'best_samples': 5}\n",
      "House: A, Occupant: 1, ADM Algo: DBSCAN, Knowledge: Partial, Zone: 2, Best Hyperparameters: {'best_eps': 11, 'best_samples': 3}\n",
      "House: A, Occupant: 1, ADM Algo: DBSCAN, Knowledge: Partial, Zone: 3, Best Hyperparameters: {'best_eps': 22, 'best_samples': 3}\n",
      "House: A, Occupant: 1, ADM Algo: DBSCAN, Knowledge: Partial, Zone: 4, Best Hyperparameters: {'best_eps': 27, 'best_samples': 3}\n",
      "House: A, Occupant: 1, ADM Algo: K-Means, Knowledge: Full, Zone: 0, Best Hyperparameters: {'best_ks': 2}\n",
      "House: A, Occupant: 1, ADM Algo: K-Means, Knowledge: Full, Zone: 1, Best Hyperparameters: {'best_ks': 19}\n",
      "House: A, Occupant: 1, ADM Algo: K-Means, Knowledge: Full, Zone: 2, Best Hyperparameters: {'best_ks': 25}\n",
      "House: A, Occupant: 1, ADM Algo: K-Means, Knowledge: Full, Zone: 3, Best Hyperparameters: {'best_ks': 17}\n",
      "House: A, Occupant: 1, ADM Algo: K-Means, Knowledge: Full, Zone: 4, Best Hyperparameters: {'best_ks': 20}\n",
      "House: A, Occupant: 1, ADM Algo: K-Means, Knowledge: Partial, Zone: 0, Best Hyperparameters: {'best_ks': 6}\n",
      "House: A, Occupant: 1, ADM Algo: K-Means, Knowledge: Partial, Zone: 1, Best Hyperparameters: {'best_ks': 14}\n",
      "House: A, Occupant: 1, ADM Algo: K-Means, Knowledge: Partial, Zone: 2, Best Hyperparameters: {'best_ks': 9}\n",
      "House: A, Occupant: 1, ADM Algo: K-Means, Knowledge: Partial, Zone: 3, Best Hyperparameters: {'best_ks': 2}\n",
      "House: A, Occupant: 1, ADM Algo: K-Means, Knowledge: Partial, Zone: 4, Best Hyperparameters: {'best_ks': 9}\n",
      "House: A, Occupant: 2, ADM Algo: DBSCAN, Knowledge: Full, Zone: 0, Best Hyperparameters: {'best_eps': 34, 'best_samples': 4}\n",
      "House: A, Occupant: 2, ADM Algo: DBSCAN, Knowledge: Full, Zone: 1, Best Hyperparameters: {'best_eps': 10, 'best_samples': 5}\n",
      "House: A, Occupant: 2, ADM Algo: DBSCAN, Knowledge: Full, Zone: 2, Best Hyperparameters: {'best_eps': 17, 'best_samples': 4}\n",
      "House: A, Occupant: 2, ADM Algo: DBSCAN, Knowledge: Full, Zone: 3, Best Hyperparameters: {'best_eps': 20, 'best_samples': 5}\n",
      "House: A, Occupant: 2, ADM Algo: DBSCAN, Knowledge: Full, Zone: 4, Best Hyperparameters: {'best_eps': 10, 'best_samples': 5}\n",
      "House: A, Occupant: 2, ADM Algo: DBSCAN, Knowledge: Partial, Zone: 0, Best Hyperparameters: {'best_eps': 26, 'best_samples': 5}\n",
      "House: A, Occupant: 2, ADM Algo: DBSCAN, Knowledge: Partial, Zone: 1, Best Hyperparameters: {'best_eps': 10, 'best_samples': 5}\n",
      "House: A, Occupant: 2, ADM Algo: DBSCAN, Knowledge: Partial, Zone: 2, Best Hyperparameters: {'best_eps': 26, 'best_samples': 3}\n",
      "House: A, Occupant: 2, ADM Algo: DBSCAN, Knowledge: Partial, Zone: 3, Best Hyperparameters: {'best_eps': 30, 'best_samples': 4}\n",
      "House: A, Occupant: 2, ADM Algo: DBSCAN, Knowledge: Partial, Zone: 4, Best Hyperparameters: {'best_eps': 10, 'best_samples': 3}\n",
      "House: A, Occupant: 2, ADM Algo: K-Means, Knowledge: Full, Zone: 0, Best Hyperparameters: {'best_ks': 2}\n",
      "House: A, Occupant: 2, ADM Algo: K-Means, Knowledge: Full, Zone: 1, Best Hyperparameters: {'best_ks': 23}\n",
      "House: A, Occupant: 2, ADM Algo: K-Means, Knowledge: Full, Zone: 2, Best Hyperparameters: {'best_ks': 14}\n",
      "House: A, Occupant: 2, ADM Algo: K-Means, Knowledge: Full, Zone: 3, Best Hyperparameters: {'best_ks': 9}\n",
      "House: A, Occupant: 2, ADM Algo: K-Means, Knowledge: Full, Zone: 4, Best Hyperparameters: {'best_ks': 7}\n",
      "House: A, Occupant: 2, ADM Algo: K-Means, Knowledge: Partial, Zone: 0, Best Hyperparameters: {'best_ks': 2}\n",
      "House: A, Occupant: 2, ADM Algo: K-Means, Knowledge: Partial, Zone: 1, Best Hyperparameters: {'best_ks': 15}\n",
      "House: A, Occupant: 2, ADM Algo: K-Means, Knowledge: Partial, Zone: 2, Best Hyperparameters: {'best_ks': 9}\n",
      "House: A, Occupant: 2, ADM Algo: K-Means, Knowledge: Partial, Zone: 3, Best Hyperparameters: {'best_ks': 4}\n",
      "House: A, Occupant: 2, ADM Algo: K-Means, Knowledge: Partial, Zone: 4, Best Hyperparameters: {'best_ks': 6}\n",
      "House: B, Occupant: 1, ADM Algo: DBSCAN, Knowledge: Full, Zone: 0, Best Hyperparameters: {'best_eps': 10, 'best_samples': 5}\n",
      "House: B, Occupant: 1, ADM Algo: DBSCAN, Knowledge: Full, Zone: 1, Best Hyperparameters: {'best_eps': 10, 'best_samples': 4}\n",
      "House: B, Occupant: 1, ADM Algo: DBSCAN, Knowledge: Full, Zone: 2, Best Hyperparameters: {'best_eps': 22, 'best_samples': 3}\n",
      "House: B, Occupant: 1, ADM Algo: DBSCAN, Knowledge: Full, Zone: 3, Best Hyperparameters: {'best_eps': 12, 'best_samples': 4}\n",
      "House: B, Occupant: 1, ADM Algo: DBSCAN, Knowledge: Full, Zone: 4, Best Hyperparameters: {'best_eps': 13, 'best_samples': 4}\n",
      "House: B, Occupant: 1, ADM Algo: DBSCAN, Knowledge: Partial, Zone: 0, Best Hyperparameters: {'best_eps': 10, 'best_samples': 5}\n",
      "House: B, Occupant: 1, ADM Algo: DBSCAN, Knowledge: Partial, Zone: 1, Best Hyperparameters: {'best_eps': 34, 'best_samples': 5}\n",
      "House: B, Occupant: 1, ADM Algo: DBSCAN, Knowledge: Partial, Zone: 2, Best Hyperparameters: {'best_eps': 32, 'best_samples': 3}\n",
      "House: B, Occupant: 1, ADM Algo: DBSCAN, Knowledge: Partial, Zone: 3, Best Hyperparameters: {'best_eps': 15, 'best_samples': 3}\n",
      "House: B, Occupant: 1, ADM Algo: DBSCAN, Knowledge: Partial, Zone: 4, Best Hyperparameters: {'best_eps': 17, 'best_samples': 5}\n",
      "House: B, Occupant: 1, ADM Algo: K-Means, Knowledge: Full, Zone: 0, Best Hyperparameters: {'best_ks': 2}\n",
      "House: B, Occupant: 1, ADM Algo: K-Means, Knowledge: Full, Zone: 1, Best Hyperparameters: {'best_ks': 6}\n",
      "House: B, Occupant: 1, ADM Algo: K-Means, Knowledge: Full, Zone: 2, Best Hyperparameters: {'best_ks': 7}\n",
      "House: B, Occupant: 1, ADM Algo: K-Means, Knowledge: Full, Zone: 3, Best Hyperparameters: {'best_ks': 10}\n",
      "House: B, Occupant: 1, ADM Algo: K-Means, Knowledge: Full, Zone: 4, Best Hyperparameters: {'best_ks': 14}\n",
      "House: B, Occupant: 1, ADM Algo: K-Means, Knowledge: Partial, Zone: 0, Best Hyperparameters: {'best_ks': 2}\n",
      "House: B, Occupant: 1, ADM Algo: K-Means, Knowledge: Partial, Zone: 1, Best Hyperparameters: {'best_ks': 6}\n",
      "House: B, Occupant: 1, ADM Algo: K-Means, Knowledge: Partial, Zone: 2, Best Hyperparameters: {'best_ks': 2}\n",
      "House: B, Occupant: 1, ADM Algo: K-Means, Knowledge: Partial, Zone: 3, Best Hyperparameters: {'best_ks': 2}\n",
      "House: B, Occupant: 1, ADM Algo: K-Means, Knowledge: Partial, Zone: 4, Best Hyperparameters: {'best_ks': 2}\n",
      "House: B, Occupant: 2, ADM Algo: DBSCAN, Knowledge: Full, Zone: 0, Best Hyperparameters: {'best_eps': 19, 'best_samples': 5}\n",
      "House: B, Occupant: 2, ADM Algo: DBSCAN, Knowledge: Full, Zone: 1, Best Hyperparameters: {'best_eps': 12, 'best_samples': 4}\n",
      "House: B, Occupant: 2, ADM Algo: DBSCAN, Knowledge: Full, Zone: 2, Best Hyperparameters: {'best_eps': 31, 'best_samples': 3}\n",
      "House: B, Occupant: 2, ADM Algo: DBSCAN, Knowledge: Full, Zone: 3, Best Hyperparameters: {'best_eps': 22, 'best_samples': 5}\n",
      "House: B, Occupant: 2, ADM Algo: DBSCAN, Knowledge: Full, Zone: 4, Best Hyperparameters: {'best_eps': 28, 'best_samples': 4}\n",
      "House: B, Occupant: 2, ADM Algo: DBSCAN, Knowledge: Partial, Zone: 0, Best Hyperparameters: {'best_eps': 14, 'best_samples': 4}\n",
      "House: B, Occupant: 2, ADM Algo: DBSCAN, Knowledge: Partial, Zone: 1, Best Hyperparameters: {'best_eps': 12, 'best_samples': 4}\n",
      "House: B, Occupant: 2, ADM Algo: DBSCAN, Knowledge: Partial, Zone: 2, Best Hyperparameters: {'best_eps': 23, 'best_samples': 3}\n",
      "House: B, Occupant: 2, ADM Algo: DBSCAN, Knowledge: Partial, Zone: 3, Best Hyperparameters: {'best_eps': 22, 'best_samples': 3}\n",
      "House: B, Occupant: 2, ADM Algo: DBSCAN, Knowledge: Partial, Zone: 4, Best Hyperparameters: {'best_eps': 16, 'best_samples': 4}\n"
     ]
    },
    {
     "name": "stdout",
     "output_type": "stream",
     "text": [
      "House: B, Occupant: 2, ADM Algo: K-Means, Knowledge: Full, Zone: 0, Best Hyperparameters: {'best_ks': 2}\n",
      "House: B, Occupant: 2, ADM Algo: K-Means, Knowledge: Full, Zone: 1, Best Hyperparameters: {'best_ks': 7}\n",
      "House: B, Occupant: 2, ADM Algo: K-Means, Knowledge: Full, Zone: 2, Best Hyperparameters: {'best_ks': 5}\n",
      "House: B, Occupant: 2, ADM Algo: K-Means, Knowledge: Full, Zone: 3, Best Hyperparameters: {'best_ks': 5}\n",
      "House: B, Occupant: 2, ADM Algo: K-Means, Knowledge: Full, Zone: 4, Best Hyperparameters: {'best_ks': 6}\n",
      "House: B, Occupant: 2, ADM Algo: K-Means, Knowledge: Partial, Zone: 0, Best Hyperparameters: {'best_ks': 2}\n",
      "House: B, Occupant: 2, ADM Algo: K-Means, Knowledge: Partial, Zone: 1, Best Hyperparameters: {'best_ks': 6}\n",
      "House: B, Occupant: 2, ADM Algo: K-Means, Knowledge: Partial, Zone: 2, Best Hyperparameters: {'best_ks': 7}\n",
      "House: B, Occupant: 2, ADM Algo: K-Means, Knowledge: Partial, Zone: 3, Best Hyperparameters: {'best_ks': 4}\n",
      "House: B, Occupant: 2, ADM Algo: K-Means, Knowledge: Partial, Zone: 4, Best Hyperparameters: {'best_ks': 4}\n"
     ]
    }
   ],
   "source": [
    "for house_name in ['A', 'B']:\n",
    "    for occupant_id in ['1', '2']:\n",
    "        dataframe = pd.read_csv(str(parent_directory) + '\\data\\\\cleaned\\\\' + 'Cleaned-Dataframe_House-' + str(house_name) + '_Occupant-' + str(occupant_id) + '.csv')                                                                                                               \n",
    "        for adm_algo in [\"DBSCAN\", \"K-Means\"]:\n",
    "\n",
    "                hyper_param_info = dict()\n",
    "\n",
    "                if adm_algo == \"DBSCAN\":\n",
    "                    hyper_param_info['min_samples']   = 3 \n",
    "                    hyper_param_info['max_samples']   = 6\n",
    "                    hyper_param_info['min_radiouses'] = 10\n",
    "                    hyper_param_info['max_radiouses'] = 35\n",
    "                \n",
    "                \n",
    "                elif adm_algo == \"K-Means\":\n",
    "                    hyper_param_info['min_ks'] = 2 \n",
    "                    hyper_param_info['max_ks'] = 30\n",
    "                \n",
    "                for zone_id in range(num_zones):\n",
    "                    hyper_parameter_tuning = HyperparameterTuning(adm_algo, dataframe, zone_id, hyper_param_info)\n",
    "                    best_hyper_params = hyper_parameter_tuning.get_best_hyperparameters() \n",
    "                    print(\"House: \" + str(house_name) + \", Occupant: \" + str(occupant_id) + \", ADM Algo: \" + str(adm_algo) + \", Knowledge: \" + str(knowledge) + \", Zone: \" + str(zone_id) + \", Best Hyperparameters: \" + str(best_hyper_params))                  \n",
    "                \n",
    "                    output_filename = str(parent_directory) + '\\data\\\\hyperparameters\\\\' + str(adm_algo) + '_House-' + str(house_name) + '_Occupant-' + str(occupant_id)  + '_Zone-' + str(zone_id) + '.json'\n",
    "                    \n",
    "                    with open(output_filename, \"w\") as json_file:\n",
    "                        json.dump(best_hyper_params, json_file)"
   ]
  }
 ],
 "metadata": {
  "kernelspec": {
   "display_name": "Python 3 (ipykernel)",
   "language": "python",
   "name": "python3"
  },
  "language_info": {
   "codemirror_mode": {
    "name": "ipython",
    "version": 3
   },
   "file_extension": ".py",
   "mimetype": "text/x-python",
   "name": "python",
   "nbconvert_exporter": "python",
   "pygments_lexer": "ipython3",
   "version": "3.9.13"
  }
 },
 "nbformat": 4,
 "nbformat_minor": 5
}
