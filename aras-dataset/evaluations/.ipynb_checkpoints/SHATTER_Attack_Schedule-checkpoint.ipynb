{
 "cells": [
  {
   "cell_type": "markdown",
   "id": "5e3ecb08",
   "metadata": {},
   "source": [
    "# Importing libraries"
   ]
  },
  {
   "cell_type": "code",
   "execution_count": 1,
   "id": "25f1073e",
   "metadata": {},
   "outputs": [],
   "source": [
    "import pandas as pd\n",
    "import numpy as np\n",
    "import math\n",
    "import os\n",
    "import sys\n",
    "import json\n",
    "import networkx as nx"
   ]
  },
  {
   "cell_type": "markdown",
   "id": "70e33a12",
   "metadata": {},
   "source": [
    "# Current and parent directories"
   ]
  },
  {
   "cell_type": "code",
   "execution_count": 2,
   "id": "43b47424",
   "metadata": {},
   "outputs": [],
   "source": [
    "current_directory = os.getcwd()\n",
    "parent_directory = os.path.dirname(current_directory)"
   ]
  },
  {
   "cell_type": "markdown",
   "id": "7cd17323",
   "metadata": {},
   "source": [
    "# Read zone information"
   ]
  },
  {
   "cell_type": "code",
   "execution_count": 3,
   "id": "21e9a6bd",
   "metadata": {},
   "outputs": [],
   "source": [
    "zones = pd.read_excel(str(parent_directory) + '/data/Aras-Information.xlsx', sheet_name='Zone-Info')\n",
    "num_zones = len(zones)"
   ]
  },
  {
   "cell_type": "markdown",
   "id": "0ce20d5b",
   "metadata": {},
   "source": [
    "# Parameters"
   ]
  },
  {
   "cell_type": "code",
   "execution_count": 4,
   "id": "afdc5398",
   "metadata": {},
   "outputs": [],
   "source": [
    "num_timeslots = 1440\n",
    "num_zones = 5"
   ]
  },
  {
   "cell_type": "markdown",
   "id": "90858cd9",
   "metadata": {},
   "source": [
    "# Attack schedule"
   ]
  },
  {
   "cell_type": "code",
   "execution_count": null,
   "id": "8f3a4b2b",
   "metadata": {},
   "outputs": [],
   "source": [
    "def attack_scheduling(list_time_min, list_time_max, start_time, final_time):\n",
    "    prev_stay = 1\n",
    "    prev_schedule = -1\n",
    "    ultimate_cost = 0\n",
    "    final_schedule = schedule = np.zeros((final_time - start_time))\n",
    "    num_timeslots = interval = 10\n",
    "    \n",
    "    \n",
    "    for init_time in range(start_time, final_time, interval):\n",
    "            \n",
    "        cost = [Int( 'cost_' + str(i)) for i in range(NUM_ZONES)]\n",
    "        zones = [Int( 'zones_' + str(i)) for i in range(NUM_ZONES)]\n",
    "\n",
    "        schedule = [Int( 'schedule_' + str(i)) for i in range(init_time, init_time + interval)]\n",
    "        stay = [Int( 'stay_' + str(i)) for i in range(interval)]\n",
    "        slot_cost = [Int( 'slot_cost_' + str(i)) for i in range(interval)]\n",
    "\n",
    "        total_cost = Int('total_cost')\n",
    "\n",
    "        o = Optimize()\n",
    "        o.add(cost[0] == 0)\n",
    "        o.add(cost[1] == 1)\n",
    "        o.add(cost[2] == 2)\n",
    "        o.add(cost[3] == 4)\n",
    "        o.add(cost[4] == 3)\n",
    "\n",
    "\n",
    "        ############################################################################\n",
    "        ################## schedule should be withing a valid zone #################\n",
    "        ############################################################################\n",
    "        for t in range(len(schedule)):\n",
    "            or_constraints = []\n",
    "            for z in range(NUM_ZONES):\n",
    "                or_constraints.append(schedule[t] == z)\n",
    "            o.add(Or(or_constraints))\n",
    "\n",
    "        ###############################################################################################################\n",
    "        ################## if zone stay threshdold in current time is 0, do not schedule to that zone #################\n",
    "        ###############################################################################################################\n",
    "\n",
    "        # base case\n",
    "        for z in range(NUM_ZONES):\n",
    "            if list_time_min[z][init_time] == []:\n",
    "                o.add(Implies(schedule[0] != prev_schedule, schedule[0] != z))\n",
    "\n",
    "        for t in range(1, len(schedule)):\n",
    "            for z in range(NUM_ZONES):\n",
    "                if list_time_min[z][init_time + t] == []:\n",
    "                    o.add(Implies(schedule[t] != schedule[t - 1], schedule[t] != z))\n",
    "\n",
    "        #######################################################################################################################\n",
    "        ############################################ constraints of stay ######################################################\n",
    "        #######################################################################################################################\n",
    "        ######## base case for time 0 ############\n",
    "        if init_time == 0:\n",
    "            o.add(stay[0] == 1)\n",
    "        else:\n",
    "            o.add(Implies(schedule[0] == prev_schedule, stay[0] == prev_stay + 1))\n",
    "            o.add(Implies(Not(schedule[0] == prev_schedule), stay[0] == 1))\n",
    "\n",
    "        for t in range(1, len(schedule)):\n",
    "            continue_staying = (schedule[t] == schedule[t - 1])\n",
    "            increment_stay = (stay[t] == stay[t - 1] + 1)\n",
    "            reset_stay = (stay[t] == 1)\n",
    "\n",
    "            o.add(Implies(continue_staying, increment_stay))\n",
    "            o.add(Implies(Not(continue_staying), reset_stay))\n",
    "\n",
    "        #######################################################################################################################\n",
    "        ############ move to a zone different that previous timeslot if stay > max threshold in previous timeslot #############\n",
    "        #######################################################################################################################\n",
    "        ######## base case for time 0 ############\n",
    "        o.add(Implies(prev_stay == max(list_time_max[prev_schedule][init_time - prev_stay], default=0), schedule[0] != prev_schedule))\n",
    "\n",
    "        for t in range(1, len(schedule)):\n",
    "            max_stay_threshold = 0\n",
    "            for z in range(NUM_ZONES):\n",
    "                for p_t in range(1, init_time + len(schedule)):\n",
    "                    continue_staying = (schedule[t] == schedule[t - 1])\n",
    "                    o.add(Implies(And(schedule[t - 1] == z, stay[t - 1] == p_t, p_t == max(list_time_max[z][init_time + t - p_t], default=0)), Not(continue_staying)))\n",
    "\n",
    "        #######################################################################################################################\n",
    "        # must stay in the zone same as the previous timeslot if stay < max && stay is in previous timeslot is out of cluster #\n",
    "        #######################################################################################################################\n",
    "        ######## base case for time 0 ############\n",
    "        ranges_stay_constraints = []\n",
    "        for k in range(len(list_time_min[prev_schedule][init_time - prev_stay])):\n",
    "            ranges_stay_constraints.append(And(prev_stay >= list_time_min[prev_schedule][init_time - prev_stay][k], prev_stay <= list_time_max[prev_schedule][init_time - prev_stay][k]))            \n",
    "\n",
    "        if init_time != 0:\n",
    "            o.add(Implies(Not(Or(ranges_stay_constraints)), schedule[0] == prev_schedule))\n",
    "\n",
    "        for t in range(1, len(schedule)):\n",
    "            for z in range(NUM_ZONES):\n",
    "                for p_t in range(1, init_time + t + 1):\n",
    "                    ranges_stay_constraints = []\n",
    "                    for k in range(len(list_time_min[z][init_time + t - p_t])):\n",
    "                        ranges_stay_constraints.append(And(p_t >= list_time_min[z][init_time + t - p_t][k], p_t <= list_time_max[z][init_time + t - p_t][k]))            \n",
    "\n",
    "                    continue_staying = (schedule[t] == schedule[t - 1])\n",
    "                    o.add(Implies(And(schedule[t - 1] == z, stay[t - 1] == p_t, Not(Or(ranges_stay_constraints))), continue_staying))\n",
    "\n",
    "        for t in range(len(schedule)):\n",
    "            for z in range(NUM_ZONES):\n",
    "                o.add(Implies(schedule[t] == z, slot_cost[t] == cost[z]))\n",
    "\n",
    "        o.add(total_cost == Sum(slot_cost))\n",
    "\n",
    "        o.maximize(total_cost)\n",
    "\n",
    "        o.check()\n",
    "        \n",
    "        if o.check() == unsat:\n",
    "            print('unsat', init_time)\n",
    "            print(prev_stay, prev_schedule)\n",
    "            return final_schedule, ultimate_cost\n",
    "        \n",
    "        print(init_time, o.model()[total_cost])\n",
    "        ultimate_cost += int(str(o.model()[total_cost]))\n",
    "\n",
    "\n",
    "        for t in range(interval): \n",
    "            final_schedule[init_time + t] = int(str(o.model()[schedule[t]]))\n",
    "\n",
    "        prev_schedule = int(str(o.model()[schedule[-1]]))\n",
    "        prev_stay = int(str(o.model()[stay[-1]]))\n",
    "        \n",
    "        \n",
    "    return final_schedule, ultimate_cost"
   ]
  },
  {
   "cell_type": "markdown",
   "id": "44ad5fd6",
   "metadata": {},
   "source": [
    "# Save linearized attack schedule (STRENGTH) for all houses and occupants"
   ]
  },
  {
   "cell_type": "code",
   "execution_count": 5,
   "id": "3c221582",
   "metadata": {},
   "outputs": [
    {
     "name": "stdout",
     "output_type": "stream",
     "text": [
      "Linearized: House: A, Occupant: 1, ADM Algo: DBSCAN\n",
      "Linearized: House: A, Occupant: 2, ADM Algo: DBSCAN\n",
      "Linearized: House: B, Occupant: 1, ADM Algo: DBSCAN\n",
      "Linearized: House: B, Occupant: 2, ADM Algo: DBSCAN\n"
     ]
    }
   ],
   "source": [
    "strength_attack_costs_actual = dict()\n",
    "\n",
    "adm_algo = \"DBSCAN\"\n",
    "for house_name in ['A', 'B']:\n",
    "    for occupant_id in ['1', '2']:\n",
    "        print(\"Linearized: House: \" + str(house_name) + \", Occupant: \" + str(occupant_id) + \", ADM Algo: \" + str(adm_algo))                  \n",
    "\n",
    "        filename = str(parent_directory) + '\\data\\\\deadlock-elimination\\\\Linearized_' + str(adm_algo) + '_House-' + str(house_name) + '_Occupant-' + str(occupant_id) + '.json'\n",
    "\n",
    "        with open(filename, \"r\") as file:\n",
    "            data = json.load(file)\n",
    "\n",
    "        rewards = [0, 1, 2, 4, 3]\n",
    "        list_time_min = data[\"List-Time-Min\"]\n",
    "        list_time_max = data[\"List-Time-Max\"]\n",
    "\n",
    "        attack_schedule = attack_scheduling(list_time_min, list_time_max, 0, num_timeslots)\n",
    "    \n",
    "        all_states = []\n",
    "        arrival_time = 0\n",
    "        arrival_zone = attack_schedule[0]\n",
    "        stay_duration = 1\n",
    "\n",
    "        for i in range(1, 1440):\n",
    "            if attack_schedule[i] != attack_schedule[i - 1]:\n",
    "                all_states.append(str(arrival_time) + '-' + str(arrival_zone) + '-' + str(stay_duration))\n",
    "                stay_duration = 1\n",
    "                arrival_zone = attack_schedule[i]\n",
    "                arrival_time = i\n",
    "            else:\n",
    "                stay_duration += 1\n",
    "\n",
    "        if stay_duration > 1:\n",
    "            all_states.append(str(arrival_time) + '-' + str(int(arrival_zone)) + '-' + str(stay_duration))  \n",
    "\n",
    "\n",
    "        memory = {\"All-States\" : all_states, \"Attack-Schedule\" : attack_schedule[0], \"Attack-Cost\" : attack_schedule[1]}\n",
    "\n",
    "        output_filename = str(parent_directory) + '\\data\\\\attack-schedules\\\\strength\\\\Linearized_' + str(adm_algo) + '_House-' + str(house_name) + '_Occupant-' + str(occupant_id) + '.json'\n",
    "\n",
    "        with open(output_filename, \"w\") as json_file:\n",
    "            json.dump(memory, json_file)"
   ]
  },
  {
   "cell_type": "markdown",
   "id": "a40b3430",
   "metadata": {},
   "source": [
    "# Save actual attack schedule (STRENGTH) for all houses and occupants"
   ]
  },
  {
   "cell_type": "code",
   "execution_count": 6,
   "id": "09444169",
   "metadata": {},
   "outputs": [
    {
     "name": "stdout",
     "output_type": "stream",
     "text": [
      "Actual: House: A, Occupant: 1, ADM Algo: DBSCAN\n",
      "Actual: House: A, Occupant: 2, ADM Algo: DBSCAN\n",
      "Actual: House: B, Occupant: 1, ADM Algo: DBSCAN\n",
      "Actual: House: B, Occupant: 2, ADM Algo: DBSCAN\n"
     ]
    }
   ],
   "source": [
    "strength_attack_costs_actual = dict()\n",
    "\n",
    "adm_algo = \"DBSCAN\"\n",
    "for house_name in ['A', 'B']:\n",
    "    for occupant_id in ['1', '2']:\n",
    "        print(\"Actual: House: \" + str(house_name) + \", Occupant: \" + str(occupant_id) + \", ADM Algo: \" + str(adm_algo))                  \n",
    "\n",
    "        filename = str(parent_directory) + '\\data\\\\deadlock-elimination\\\\Actual_' + str(adm_algo) + '_House-' + str(house_name) + '_Occupant-' + str(occupant_id) + '.json'\n",
    "\n",
    "        with open(filename, \"r\") as file:\n",
    "            data = json.load(file)\n",
    "\n",
    "        rewards = [0, 1, 2, 4, 3]\n",
    "        states = data[\"States\"]\n",
    "        next_states = data[\"Next-States\"]\n",
    "\n",
    "        my_graph = nx.DiGraph()         \n",
    "        for i in range(len(states)):\n",
    "            state = states[i]\n",
    "            arrival_time = int(state.split('-')[0])\n",
    "            arrival_zone = int(state.split('-')[1])\n",
    "            state_stay_duration = int(state.split('-')[2])\n",
    "            try:\n",
    "                for j in next_states[str(i)]:\n",
    "                    if j == -1:\n",
    "                        my_graph.add_edge(state, '0-0-0', weight = 0)\n",
    "                        continue\n",
    "\n",
    "                    next_state = states[j]\n",
    "                    next_arrival_time = int(next_state.split('-')[0])\n",
    "                    next_arrival_zone = int(next_state.split('-')[1])\n",
    "                    next_state_stay_duration = int(next_state.split('-')[2])\n",
    "\n",
    "                    if next_arrival_zone == arrival_zone:\n",
    "                        my_graph.add_edge(state, next_state, weight = (next_state_stay_duration - state_stay_duration) * rewards[arrival_zone])\n",
    "                    else:\n",
    "                        my_graph.add_edge(state, next_state, weight = next_state_stay_duration  * rewards[next_arrival_zone])\n",
    "            except:\n",
    "                pass\n",
    "\n",
    "\n",
    "        source_node = '0-0-0'\n",
    "        current_source_nodes = [node for node in my_graph.nodes if my_graph.in_degree(node) == 0]\n",
    "\n",
    "        for node in current_source_nodes:\n",
    "            node_state_stay_duration = int(node.split('-')[2])\n",
    "            my_graph.add_edge(source_node, node, weight = node_state_stay_duration)\n",
    "\n",
    "        longest_path = nx.dag_longest_path(my_graph, weight = 'weight')    \n",
    "        len_longest_path = nx.dag_longest_path_length(my_graph, weight = 'weight')\n",
    "        \n",
    "        attack_schedule = {\"Longest-Path\" : longest_path, \"Longest-Path-Length\" : len_longest_path, \"Number-of-Nodes\" : my_graph.number_of_nodes(), \"Number-of-Edges:\" : my_graph.number_of_edges()}\n",
    "        \n",
    "        output_filename = str(parent_directory) + '\\data\\\\attack-schedules\\\\strength\\\\Actual_' + str(adm_algo) + '_House-' + str(house_name) + '_Occupant-' + str(occupant_id) + '.json'\n",
    "\n",
    "        with open(output_filename, \"w\") as json_file:\n",
    "            json.dump(attack_schedule, json_file)"
   ]
  }
 ],
 "metadata": {
  "kernelspec": {
   "display_name": "Python 3 (ipykernel)",
   "language": "python",
   "name": "python3"
  },
  "language_info": {
   "codemirror_mode": {
    "name": "ipython",
    "version": 3
   },
   "file_extension": ".py",
   "mimetype": "text/x-python",
   "name": "python",
   "nbconvert_exporter": "python",
   "pygments_lexer": "ipython3",
   "version": "3.9.13"
  }
 },
 "nbformat": 4,
 "nbformat_minor": 5
}
