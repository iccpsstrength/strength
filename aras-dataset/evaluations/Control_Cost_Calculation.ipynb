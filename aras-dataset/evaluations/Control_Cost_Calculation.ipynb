{
 "cells": [
  {
   "cell_type": "markdown",
   "id": "3f8599ec",
   "metadata": {},
   "source": [
    "# Import libraries"
   ]
  },
  {
   "cell_type": "code",
   "execution_count": 1,
   "id": "554519c6",
   "metadata": {},
   "outputs": [],
   "source": [
    "import pandas as pd\n",
    "import numpy as np\n",
    "from z3 import *\n",
    "from itertools import combinations\n",
    "import os\n",
    "import sys\n",
    "sys.path.append(\"../scripts/\")\n",
    "from ControlCost import *\n",
    "import warnings\n",
    "warnings.filterwarnings('ignore')"
   ]
  },
  {
   "cell_type": "markdown",
   "id": "78265d3b",
   "metadata": {},
   "source": [
    "# Current and parent directories"
   ]
  },
  {
   "cell_type": "code",
   "execution_count": 2,
   "id": "67fa2dfd",
   "metadata": {},
   "outputs": [],
   "source": [
    "current_directory = os.getcwd()\n",
    "parent_directory = os.path.dirname(current_directory)"
   ]
  },
  {
   "cell_type": "markdown",
   "id": "0645ce12",
   "metadata": {},
   "source": [
    "# Accessing Zone-Activity-Appliances Information"
   ]
  },
  {
   "cell_type": "code",
   "execution_count": 3,
   "id": "4c035d77",
   "metadata": {},
   "outputs": [],
   "source": [
    "zones = pd.read_excel(str(parent_directory) + '/data/Aras-Information.xlsx', sheet_name='Zone-Info')\n",
    "zone_volume = zones[\"Volume (cf)\"].to_list()                  # Zones' volumes (cubic feet)     \n",
    "        \n",
    "activities = pd.read_excel(str(parent_directory) + '/data/Aras-Information.xlsx', sheet_name='Activity-Info')\n",
    "energy_appliances = pd.read_excel(str(parent_directory) + '/data/Aras-Information.xlsx', sheet_name='Appliances-Info').iloc[:,-1].to_numpy()\n",
    "benign_activity_appliances_map = pd.read_excel(str(parent_directory) + '/data/Aras-Information.xlsx', sheet_name='Benign-Activity-Appliances-Map').iloc[:, 4:].to_numpy()"
   ]
  },
  {
   "cell_type": "markdown",
   "id": "55f2066b",
   "metadata": {},
   "source": [
    "# Save control costs for all houses"
   ]
  },
  {
   "cell_type": "code",
   "execution_count": 4,
   "id": "67161fdf",
   "metadata": {},
   "outputs": [
    {
     "name": "stdout",
     "output_type": "stream",
     "text": [
      "House: A, Day: 0\n",
      "House: A, Day: 1\n",
      "House: A, Day: 2\n",
      "House: A, Day: 3\n",
      "House: A, Day: 4\n",
      "House: A, Day: 5\n",
      "House: A, Day: 6\n",
      "House: A, Day: 7\n",
      "House: A, Day: 8\n",
      "House: A, Day: 9\n",
      "House: A, Day: 10\n",
      "House: A, Day: 11\n",
      "House: A, Day: 12\n",
      "House: A, Day: 13\n",
      "House: A, Day: 14\n",
      "House: A, Day: 15\n",
      "House: A, Day: 16\n",
      "House: A, Day: 17\n",
      "House: A, Day: 18\n",
      "House: A, Day: 19\n",
      "House: A, Day: 20\n",
      "House: A, Day: 21\n",
      "House: A, Day: 22\n",
      "House: A, Day: 23\n",
      "House: A, Day: 24\n",
      "House: A, Day: 25\n",
      "House: A, Day: 26\n",
      "House: A, Day: 27\n",
      "House: A, Day: 28\n",
      "House: A, Day: 29\n",
      "House: B, Day: 0\n",
      "House: B, Day: 1\n",
      "House: B, Day: 2\n",
      "House: B, Day: 3\n",
      "House: B, Day: 4\n",
      "House: B, Day: 5\n",
      "House: B, Day: 6\n",
      "House: B, Day: 7\n",
      "House: B, Day: 8\n",
      "House: B, Day: 9\n",
      "House: B, Day: 10\n",
      "House: B, Day: 11\n",
      "House: B, Day: 12\n",
      "House: B, Day: 13\n",
      "House: B, Day: 14\n",
      "House: B, Day: 15\n",
      "House: B, Day: 16\n",
      "House: B, Day: 17\n",
      "House: B, Day: 18\n",
      "House: B, Day: 19\n",
      "House: B, Day: 20\n",
      "House: B, Day: 21\n",
      "House: B, Day: 22\n",
      "House: B, Day: 23\n",
      "House: B, Day: 24\n",
      "House: B, Day: 25\n",
      "House: B, Day: 26\n",
      "House: B, Day: 27\n",
      "House: B, Day: 28\n",
      "House: B, Day: 29\n"
     ]
    }
   ],
   "source": [
    "for house_name in ['A', 'B']:\n",
    "    dataframe = pd.read_csv(str(parent_directory) + '\\data\\\\processed\\\\' + 'Processed-Dataframe_House-' + str(house_name) + '.csv')\n",
    "    control_dataframe = ControlCost(house_name, dataframe, zones, zone_volume, activities, energy_appliances, benign_activity_appliances_map).get_control_costs()\n",
    "    output_filename = str(parent_directory) + '\\data\\\\control-costs\\\\Control-Costs_House-' + str(house_name) + '.csv'\n",
    "    control_dataframe.to_csv(output_filename, index = False)"
   ]
  }
 ],
 "metadata": {
  "kernelspec": {
   "display_name": "Python 3 (ipykernel)",
   "language": "python",
   "name": "python3"
  },
  "language_info": {
   "codemirror_mode": {
    "name": "ipython",
    "version": 3
   },
   "file_extension": ".py",
   "mimetype": "text/x-python",
   "name": "python",
   "nbconvert_exporter": "python",
   "pygments_lexer": "ipython3",
   "version": "3.9.13"
  }
 },
 "nbformat": 4,
 "nbformat_minor": 5
}
