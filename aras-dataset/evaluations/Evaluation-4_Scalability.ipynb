{
 "cells": [
  {
   "cell_type": "markdown",
   "id": "3f8599ec",
   "metadata": {},
   "source": [
    "# Import libraries"
   ]
  },
  {
   "cell_type": "code",
   "execution_count": 1,
   "id": "554519c6",
   "metadata": {},
   "outputs": [],
   "source": [
    "import pandas as pd\n",
    "import numpy as np\n",
    "import math\n",
    "import os\n",
    "import sys\n",
    "import json\n",
    "import time\n",
    "sys.path.append(\"../scripts/\")\n",
    "from ActualADM import *\n",
    "from LinearizedADM import *\n",
    "from DeadlockElimination import *"
   ]
  },
  {
   "cell_type": "markdown",
   "id": "78265d3b",
   "metadata": {},
   "source": [
    "# Current and parent directories"
   ]
  },
  {
   "cell_type": "code",
   "execution_count": 2,
   "id": "67fa2dfd",
   "metadata": {},
   "outputs": [],
   "source": [
    "current_directory = os.getcwd()\n",
    "parent_directory = os.path.dirname(current_directory)"
   ]
  },
  {
   "cell_type": "markdown",
   "id": "0645ce12",
   "metadata": {},
   "source": [
    "# Read zone information"
   ]
  },
  {
   "cell_type": "code",
   "execution_count": 3,
   "id": "4c035d77",
   "metadata": {},
   "outputs": [],
   "source": [
    "zones = pd.read_excel(str(parent_directory) + '/data/Aras-Information.xlsx', sheet_name='Zone-Info')\n",
    "num_zones = len(zones)"
   ]
  },
  {
   "cell_type": "code",
   "execution_count": 4,
   "id": "20be2dad",
   "metadata": {},
   "outputs": [
    {
     "name": "stdout",
     "output_type": "stream",
     "text": [
      "House A Occupant 1\n",
      "Execution Time: 6.929789066314697\n",
      "Actual: House: A, Occupant: 1, ADM Algo: DBSCAN, Number of Timeslots: 200\n",
      "House A Occupant 1\n",
      "Execution Time: 22.58213996887207\n",
      "Actual: House: A, Occupant: 1, ADM Algo: DBSCAN, Number of Timeslots: 400\n",
      "House A Occupant 1\n",
      "Execution Time: 51.36706471443176\n",
      "Actual: House: A, Occupant: 1, ADM Algo: DBSCAN, Number of Timeslots: 600\n",
      "House A Occupant 1\n",
      "Execution Time: 228.4193720817566\n",
      "Actual: House: A, Occupant: 1, ADM Algo: DBSCAN, Number of Timeslots: 800\n",
      "House A Occupant 1\n",
      "Execution Time: 159.7570879459381\n",
      "Actual: House: A, Occupant: 1, ADM Algo: DBSCAN, Number of Timeslots: 1000\n",
      "House A Occupant 1\n",
      "Execution Time: 223.94544792175293\n",
      "Actual: House: A, Occupant: 1, ADM Algo: DBSCAN, Number of Timeslots: 1200\n",
      "House A Occupant 1\n",
      "Execution Time: 301.26544523239136\n",
      "Actual: House: A, Occupant: 1, ADM Algo: DBSCAN, Number of Timeslots: 1400\n",
      "House A Occupant 2\n",
      "Execution Time: 29.171215772628784\n",
      "Actual: House: A, Occupant: 2, ADM Algo: DBSCAN, Number of Timeslots: 200\n",
      "House A Occupant 2\n",
      "Execution Time: 65.17890930175781\n",
      "Actual: House: A, Occupant: 2, ADM Algo: DBSCAN, Number of Timeslots: 400\n",
      "House A Occupant 2\n",
      "Execution Time: 129.02236008644104\n",
      "Actual: House: A, Occupant: 2, ADM Algo: DBSCAN, Number of Timeslots: 600\n",
      "House A Occupant 2\n",
      "Execution Time: 231.2608938217163\n",
      "Actual: House: A, Occupant: 2, ADM Algo: DBSCAN, Number of Timeslots: 800\n",
      "House A Occupant 2\n",
      "Execution Time: 347.55841612815857\n",
      "Actual: House: A, Occupant: 2, ADM Algo: DBSCAN, Number of Timeslots: 1000\n",
      "House A Occupant 2\n",
      "Execution Time: 424.36729097366333\n",
      "Actual: House: A, Occupant: 2, ADM Algo: DBSCAN, Number of Timeslots: 1200\n",
      "House A Occupant 2\n",
      "Execution Time: 567.3872051239014\n",
      "Actual: House: A, Occupant: 2, ADM Algo: DBSCAN, Number of Timeslots: 1400\n"
     ]
    }
   ],
   "source": [
    "adm_algo = \"DBSCAN\"\n",
    "for house_name in ['A']:\n",
    "    for occupant_id in ['1', '2']:\n",
    "        for num_timeslots in range(200, 1401, 200):\n",
    "            print(\"Actual: House: \" + str(house_name) + \", Occupant: \" + str(occupant_id) + \", ADM Algo: \" + str(adm_algo) + \", Number of Timeslots: \" + str(num_timeslots))                  \n",
    "            dataframe = pd.read_csv(str(parent_directory) + '/data/cleaned/' + 'Cleaned-Dataframe_House-' + str(house_name) + '_Occupant-' + str(occupant_id) + '.csv')                                                                                                       \n",
    "            actual_adm = ActualADM(adm_algo, dataframe, house_name, occupant_id, 1440, num_zones)\n",
    "            list_time_min, list_time_max = actual_adm.noise_augmented_range_calculation()\n",
    "            analytics = DeadlockElimination(num_timeslots, num_zones, list_time_min, list_time_max)\n",
    "            deadlock_info = analytics.deadlock_elimination()            \n",
    "            output_filename = str(parent_directory) + '/data/time-limited-deadlock-elimination/Actual_' + str(adm_algo) + '_House-' + str(house_name) + '_Occupant-' + str(occupant_id) + '_Timeslots-' + str(num_timeslots) + '.json'\n",
    "\n",
    "            with open(output_filename, \"w\") as json_file:\n",
    "                json.dump(deadlock_info, json_file)"
   ]
  },
  {
   "cell_type": "code",
   "execution_count": 5,
   "id": "541f5344",
   "metadata": {},
   "outputs": [
    {
     "name": "stdout",
     "output_type": "stream",
     "text": [
      "Actual: House: A, Occupant: 1, ADM Algo: DBSCAN, Number of Timeslots: 200\n"
     ]
    },
    {
     "ename": "NameError",
     "evalue": "name 'nx' is not defined",
     "output_type": "error",
     "traceback": [
      "\u001b[0;31m---------------------------------------------------------------------------\u001b[0m",
      "\u001b[0;31mNameError\u001b[0m                                 Traceback (most recent call last)",
      "\u001b[0;32m/var/folders/0t/f1bww0311bz0lrgs9q08vyzr0000gn/T/ipykernel_3269/1761542775.py\u001b[0m in \u001b[0;36m<module>\u001b[0;34m\u001b[0m\n\u001b[1;32m     15\u001b[0m             \u001b[0mnext_states\u001b[0m \u001b[0;34m=\u001b[0m \u001b[0mdata\u001b[0m\u001b[0;34m[\u001b[0m\u001b[0;34m\"Next-States\"\u001b[0m\u001b[0;34m]\u001b[0m\u001b[0;34m\u001b[0m\u001b[0;34m\u001b[0m\u001b[0m\n\u001b[1;32m     16\u001b[0m \u001b[0;34m\u001b[0m\u001b[0m\n\u001b[0;32m---> 17\u001b[0;31m             \u001b[0mmy_graph\u001b[0m \u001b[0;34m=\u001b[0m \u001b[0mnx\u001b[0m\u001b[0;34m.\u001b[0m\u001b[0mDiGraph\u001b[0m\u001b[0;34m(\u001b[0m\u001b[0;34m)\u001b[0m\u001b[0;34m\u001b[0m\u001b[0;34m\u001b[0m\u001b[0m\n\u001b[0m\u001b[1;32m     18\u001b[0m             \u001b[0;32mfor\u001b[0m \u001b[0mi\u001b[0m \u001b[0;32min\u001b[0m \u001b[0mrange\u001b[0m\u001b[0;34m(\u001b[0m\u001b[0mlen\u001b[0m\u001b[0;34m(\u001b[0m\u001b[0mstates\u001b[0m\u001b[0;34m)\u001b[0m\u001b[0;34m)\u001b[0m\u001b[0;34m:\u001b[0m\u001b[0;34m\u001b[0m\u001b[0;34m\u001b[0m\u001b[0m\n\u001b[1;32m     19\u001b[0m                 \u001b[0mstate\u001b[0m \u001b[0;34m=\u001b[0m \u001b[0mstates\u001b[0m\u001b[0;34m[\u001b[0m\u001b[0mi\u001b[0m\u001b[0;34m]\u001b[0m\u001b[0;34m\u001b[0m\u001b[0;34m\u001b[0m\u001b[0m\n",
      "\u001b[0;31mNameError\u001b[0m: name 'nx' is not defined"
     ]
    }
   ],
   "source": [
    "adm_algo = \"DBSCAN\"\n",
    "for house_name in ['A']:\n",
    "    for occupant_id in ['1', '2']:\n",
    "        for num_timeslots in range(200, 1401, 200):\n",
    "            start_time = time.time()\n",
    "            print(\"Actual: House: \" + str(house_name) + \", Occupant: \" + str(occupant_id) + \", ADM Algo: \" + str(adm_algo) + \", Number of Timeslots: \" + str(num_timeslots))                  \n",
    "            \n",
    "            filename = str(parent_directory) + '/data/time-limited-deadlock-elimination/Actual_' + str(adm_algo) + '_House-' + str(house_name) + '_Occupant-' + str(occupant_id) + '_Timeslots-' + str(num_timeslots) + '.json'\n",
    "\n",
    "            with open(filename, \"r\") as file:\n",
    "                data = json.load(file)\n",
    "\n",
    "            rewards = [0, 1, 2, 4, 3]\n",
    "            states = data[\"States\"]\n",
    "            next_states = data[\"Next-States\"]\n",
    "\n",
    "            my_graph = nx.DiGraph()         \n",
    "            for i in range(len(states)):\n",
    "                state = states[i]\n",
    "                arrival_time = int(state.split('-')[0])\n",
    "                arrival_zone = int(state.split('-')[1])\n",
    "                state_stay_duration = int(state.split('-')[2])\n",
    "                try:\n",
    "                    for j in next_states[str(i)]:\n",
    "                        if j == -1:\n",
    "                            my_graph.add_edge(state, '0-0-0', weight = 0)\n",
    "                            continue\n",
    "\n",
    "                        next_state = states[j]\n",
    "                        next_arrival_time = int(next_state.split('-')[0])\n",
    "                        next_arrival_zone = int(next_state.split('-')[1])\n",
    "                        next_state_stay_duration = int(next_state.split('-')[2])\n",
    "\n",
    "                        if next_arrival_zone == arrival_zone:\n",
    "                            my_graph.add_edge(state, next_state, weight = (next_state_stay_duration - state_stay_duration) * rewards[arrival_zone])\n",
    "                        else:\n",
    "                            my_graph.add_edge(state, next_state, weight = next_state_stay_duration  * rewards[next_arrival_zone])\n",
    "                except:\n",
    "                    pass\n",
    "\n",
    "            source_node = '0-0-0'\n",
    "\n",
    "            current_source_nodes = [node for node in my_graph.nodes if my_graph.in_degree(node) == 0]\n",
    "\n",
    "            # remove nodes whose arrival_time! = 0 and does not have any preceeding node\n",
    "            nodes_to_remove = []\n",
    "\n",
    "            for node in current_source_nodes:\n",
    "                arrival_time = int(node.split('-')[0])\n",
    "                if arrival_time != 0:\n",
    "                    nodes_to_remove.append(node)\n",
    "\n",
    "            current_source_nodes = [node for node in current_source_nodes if node not in nodes_to_remove]\n",
    "\n",
    "            for node in current_source_nodes:\n",
    "                node_state_stay_duration = int(node.split('-')[2])\n",
    "                my_graph.add_edge(source_node, node, weight = node_state_stay_duration)\n",
    "\n",
    "            # Get all nodes reachable from the source node\n",
    "            reachable_nodes = nx.descendants(my_graph, source_node)\n",
    "            reachable_nodes.add(source_node)\n",
    "\n",
    "            # Create a subgraph containing only the reachable nodes\n",
    "            my_graph = my_graph.subgraph(reachable_nodes)    \n",
    "\n",
    "            longest_path = nx.dag_longest_path(my_graph, weight = 'weight')    \n",
    "            len_longest_path = nx.dag_longest_path_length(my_graph, weight = 'weight')\n",
    "\n",
    "            attack_schedule = {\"Longest-Path\" : longest_path, \"Longest-Path-Length\" : len_longest_path, \"Number-of-Nodes\" : my_graph.number_of_nodes(), \"Number-of-Edges:\" : my_graph.number_of_edges()}\n",
    "            print(\"Execution time\", time.time() - start_time_time_time)            "
   ]
  }
 ],
 "metadata": {
  "kernelspec": {
   "display_name": "Python 3 (ipykernel)",
   "language": "python",
   "name": "python3"
  },
  "language_info": {
   "codemirror_mode": {
    "name": "ipython",
    "version": 3
   },
   "file_extension": ".py",
   "mimetype": "text/x-python",
   "name": "python",
   "nbconvert_exporter": "python",
   "pygments_lexer": "ipython3",
   "version": "3.12.4"
  }
 },
 "nbformat": 4,
 "nbformat_minor": 5
}
