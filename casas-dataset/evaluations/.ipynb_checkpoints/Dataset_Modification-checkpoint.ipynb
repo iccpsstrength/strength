{
 "cells": [
  {
   "cell_type": "markdown",
   "id": "dedcada3",
   "metadata": {},
   "source": [
    "# Import libraries"
   ]
  },
  {
   "cell_type": "code",
   "execution_count": 2,
   "id": "c6dc0af9",
   "metadata": {},
   "outputs": [],
   "source": [
    "import pandas as pd\n",
    "import numpy as np\n",
    "import math\n",
    "import os\n",
    "import warnings\n",
    "warnings.filterwarnings(\"ignore\")"
   ]
  },
  {
   "cell_type": "markdown",
   "id": "89f17a61",
   "metadata": {},
   "source": [
    "# Current and parent directories"
   ]
  },
  {
   "cell_type": "code",
   "execution_count": 4,
   "id": "95fb55c0",
   "metadata": {},
   "outputs": [],
   "source": [
    "current_directory = os.getcwd()\n",
    "parent_directory = os.path.dirname(current_directory)"
   ]
  },
  {
   "cell_type": "markdown",
   "id": "654be3f5",
   "metadata": {},
   "source": [
    "# Read activity information"
   ]
  },
  {
   "cell_type": "code",
   "execution_count": 6,
   "id": "280ad17f",
   "metadata": {},
   "outputs": [
    {
     "data": {
      "text/html": [
       "<div>\n",
       "<style scoped>\n",
       "    .dataframe tbody tr th:only-of-type {\n",
       "        vertical-align: middle;\n",
       "    }\n",
       "\n",
       "    .dataframe tbody tr th {\n",
       "        vertical-align: top;\n",
       "    }\n",
       "\n",
       "    .dataframe thead th {\n",
       "        text-align: right;\n",
       "    }\n",
       "</style>\n",
       "<table border=\"1\" class=\"dataframe\">\n",
       "  <thead>\n",
       "    <tr style=\"text-align: right;\">\n",
       "      <th></th>\n",
       "      <th>Activity ID</th>\n",
       "      <th>Acitivity</th>\n",
       "      <th>Zone ID</th>\n",
       "      <th>Zone</th>\n",
       "      <th>Physical activity levels (M) (met)</th>\n",
       "      <th>Scale of CO2 Generation for 21-30 age group (L/s)</th>\n",
       "      <th>CO2 Emission by Occupant (L/s)</th>\n",
       "      <th>CO2 Emission by Occupant (CFM)</th>\n",
       "      <th>Heat Radiation by Occupant (kW)</th>\n",
       "      <th>Heat Radiation by Occupant (W)</th>\n",
       "    </tr>\n",
       "  </thead>\n",
       "  <tbody>\n",
       "    <tr>\n",
       "      <th>0</th>\n",
       "      <td>0</td>\n",
       "      <td>Other</td>\n",
       "      <td>0</td>\n",
       "      <td>Outside</td>\n",
       "      <td>0.0</td>\n",
       "      <td>-0.9961</td>\n",
       "      <td>0.00000</td>\n",
       "      <td>0.000000</td>\n",
       "      <td>0.000000</td>\n",
       "      <td>0.000000</td>\n",
       "    </tr>\n",
       "    <tr>\n",
       "      <th>1</th>\n",
       "      <td>1</td>\n",
       "      <td>Fill medication dispenser</td>\n",
       "      <td>3</td>\n",
       "      <td>Kitchen</td>\n",
       "      <td>2.8</td>\n",
       "      <td>0.0039</td>\n",
       "      <td>0.01092</td>\n",
       "      <td>0.023139</td>\n",
       "      <td>0.113268</td>\n",
       "      <td>113.267755</td>\n",
       "    </tr>\n",
       "    <tr>\n",
       "      <th>2</th>\n",
       "      <td>2</td>\n",
       "      <td>Hang up clothes</td>\n",
       "      <td>1</td>\n",
       "      <td>Bedroom</td>\n",
       "      <td>2.2</td>\n",
       "      <td>0.0039</td>\n",
       "      <td>0.00858</td>\n",
       "      <td>0.018181</td>\n",
       "      <td>0.088996</td>\n",
       "      <td>88.996093</td>\n",
       "    </tr>\n",
       "    <tr>\n",
       "      <th>3</th>\n",
       "      <td>3</td>\n",
       "      <td>Move the couch</td>\n",
       "      <td>2</td>\n",
       "      <td>Livingroom</td>\n",
       "      <td>4.0</td>\n",
       "      <td>0.0039</td>\n",
       "      <td>0.01560</td>\n",
       "      <td>0.033056</td>\n",
       "      <td>0.161811</td>\n",
       "      <td>161.811078</td>\n",
       "    </tr>\n",
       "    <tr>\n",
       "      <th>4</th>\n",
       "      <td>4</td>\n",
       "      <td>Sit on the couch</td>\n",
       "      <td>2</td>\n",
       "      <td>Livingroom</td>\n",
       "      <td>1.5</td>\n",
       "      <td>0.0039</td>\n",
       "      <td>0.00585</td>\n",
       "      <td>0.012396</td>\n",
       "      <td>0.060679</td>\n",
       "      <td>60.679154</td>\n",
       "    </tr>\n",
       "  </tbody>\n",
       "</table>\n",
       "</div>"
      ],
      "text/plain": [
       "   Activity ID                  Acitivity  Zone ID        Zone  \\\n",
       "0            0                      Other        0     Outside   \n",
       "1            1  Fill medication dispenser        3     Kitchen   \n",
       "2            2            Hang up clothes        1     Bedroom   \n",
       "3            3             Move the couch        2  Livingroom   \n",
       "4            4           Sit on the couch        2  Livingroom   \n",
       "\n",
       "   Physical activity levels (M) (met)  \\\n",
       "0                                 0.0   \n",
       "1                                 2.8   \n",
       "2                                 2.2   \n",
       "3                                 4.0   \n",
       "4                                 1.5   \n",
       "\n",
       "   Scale of CO2 Generation for 21-30 age group (L/s)  \\\n",
       "0                                            -0.9961   \n",
       "1                                             0.0039   \n",
       "2                                             0.0039   \n",
       "3                                             0.0039   \n",
       "4                                             0.0039   \n",
       "\n",
       "   CO2 Emission by Occupant (L/s)  CO2 Emission by Occupant (CFM)  \\\n",
       "0                         0.00000                        0.000000   \n",
       "1                         0.01092                        0.023139   \n",
       "2                         0.00858                        0.018181   \n",
       "3                         0.01560                        0.033056   \n",
       "4                         0.00585                        0.012396   \n",
       "\n",
       "   Heat Radiation by Occupant (kW)  Heat Radiation by Occupant (W)  \n",
       "0                         0.000000                        0.000000  \n",
       "1                         0.113268                      113.267755  \n",
       "2                         0.088996                       88.996093  \n",
       "3                         0.161811                      161.811078  \n",
       "4                         0.060679                       60.679154  "
      ]
     },
     "execution_count": 6,
     "metadata": {},
     "output_type": "execute_result"
    }
   ],
   "source": [
    "activities = pd.read_excel(str(parent_directory) + '/data/Aras-Information.xlsx', sheet_name='Activity-Info')\n",
    "activities.head()"
   ]
  },
  {
   "cell_type": "markdown",
   "id": "7232ef55",
   "metadata": {},
   "source": [
    "# Accessing activity-zone mapping information"
   ]
  },
  {
   "cell_type": "code",
   "execution_count": 8,
   "id": "0e8ee688",
   "metadata": {},
   "outputs": [],
   "source": [
    "activity_zone_map = dict()\n",
    "for i in range(len(activities)):\n",
    "    activity_zone_map[int(activities[\"Activity ID\"][i])] = int(activities[\"Zone ID\"][i])"
   ]
  },
  {
   "cell_type": "markdown",
   "id": "f00f6572",
   "metadata": {},
   "source": [
    "# Fixed parameters"
   ]
  },
  {
   "cell_type": "code",
   "execution_count": 10,
   "id": "803b9efd",
   "metadata": {},
   "outputs": [],
   "source": [
    "NUM_DAYS = 16\n",
    "NUM_ACTIVITIES = len(activities)"
   ]
  },
  {
   "cell_type": "markdown",
   "id": "437209a6",
   "metadata": {},
   "source": [
    "# Dataset modification function"
   ]
  },
  {
   "cell_type": "code",
   "execution_count": 12,
   "id": "8774d0d6",
   "metadata": {},
   "outputs": [],
   "source": [
    "def dataset_modification(input_directory, house_name, output_filename):\n",
    "    \n",
    "    dataframe = pd.DataFrame(columns = ['Day', 'Minute', 'Outdoor (Zone - 0) Occupant', 'Bedroom (Zone - 1) Occupant', 'Livingroom (Zone - 2) Occupant', 'Kitchen (Zone - 3) Occupant', 'Bathroom (Zone - 4) Occupant'])\n",
    "\n",
    "    for day in range(1, NUM_DAYS + 1):    \n",
    "\n",
    "        records = []\n",
    "\n",
    "        print(\"Modified ...\", \"House\", house_name, \"Day\", day)\n",
    "        # Importing dataset\n",
    "        raw_data_filename = str(input_directory) + str(day) + '.txt'\n",
    "        raw_dataframe =  pd.read_csv(str(raw_data_filename), header=None, sep = ' ').iloc[:, -2:]  \n",
    "\n",
    "        # Establishing column names to make it easier to work with\n",
    "        raw_dataframe.columns = ['Occ-1','Occ-2']\n",
    "\n",
    "        # We will just work with the specified occupant in the function argument\n",
    "        activities_occupant = raw_dataframe.values.tolist()\n",
    "\n",
    "        for i in range(0, len(activities_occupant), 60):\n",
    "            zone_occupant = [0, 0, 0, 0, 0]\n",
    "            activities_occupant_1_id = activities_occupant[i][0]\n",
    "            activities_occupant_2_id = activities_occupant[i][1]\n",
    "            occupant_1_zone_id = activity_zone_map[activities_occupant_1_id]\n",
    "            occupant_2_zone_id = activity_zone_map[activities_occupant_2_id]\n",
    "            \n",
    "            zone_occupant[occupant_1_zone_id] += 1\n",
    "            zone_occupant[occupant_2_zone_id] += 1\n",
    "            \n",
    "            records.append([day, int(i/60), zone_occupant[0], zone_occupant[1], zone_occupant[2], zone_occupant[3], zone_occupant[4]])\n",
    "\n",
    "        dataframe = pd.concat([dataframe, pd.DataFrame(records, columns=dataframe.columns)], ignore_index=True)\n",
    "\n",
    "    dataframe = dataframe.reset_index(drop = True)\n",
    "    dataframe.to_csv(output_filename, index = False)"
   ]
  },
  {
   "cell_type": "markdown",
   "id": "8e24e190",
   "metadata": {},
   "source": [
    "# Creating processed dataframe for both houses and all occupants"
   ]
  },
  {
   "cell_type": "code",
   "execution_count": 14,
   "id": "56d91b75",
   "metadata": {},
   "outputs": [
    {
     "name": "stdout",
     "output_type": "stream",
     "text": [
      "Modified ... House A Day 1\n"
     ]
    },
    {
     "ename": "AttributeError",
     "evalue": "'DataFrame' object has no attribute 'append'",
     "output_type": "error",
     "traceback": [
      "\u001b[1;31m---------------------------------------------------------------------------\u001b[0m",
      "\u001b[1;31mAttributeError\u001b[0m                            Traceback (most recent call last)",
      "\u001b[1;32m~\\AppData\\Local\\Temp\\ipykernel_7772\\3252188603.py\u001b[0m in \u001b[0;36m?\u001b[1;34m()\u001b[0m\n\u001b[0;32m      1\u001b[0m \u001b[1;32mfor\u001b[0m \u001b[0mhouse_name\u001b[0m \u001b[1;32min\u001b[0m \u001b[1;33m[\u001b[0m\u001b[1;34m'A'\u001b[0m\u001b[1;33m]\u001b[0m\u001b[1;33m:\u001b[0m\u001b[1;33m\u001b[0m\u001b[1;33m\u001b[0m\u001b[0m\n\u001b[0;32m      2\u001b[0m     \u001b[0minput_directory\u001b[0m \u001b[1;33m=\u001b[0m \u001b[0mstr\u001b[0m\u001b[1;33m(\u001b[0m\u001b[0mparent_directory\u001b[0m\u001b[1;33m)\u001b[0m \u001b[1;33m+\u001b[0m \u001b[1;34m'\\data\\\\raw\\\\house-'\u001b[0m \u001b[1;33m+\u001b[0m \u001b[0mhouse_name\u001b[0m \u001b[1;33m+\u001b[0m \u001b[1;34m'\\\\DAY-'\u001b[0m\u001b[1;33m\u001b[0m\u001b[1;33m\u001b[0m\u001b[0m\n\u001b[0;32m      3\u001b[0m     \u001b[0moutput_filename\u001b[0m \u001b[1;33m=\u001b[0m \u001b[0mstr\u001b[0m\u001b[1;33m(\u001b[0m\u001b[0mparent_directory\u001b[0m\u001b[1;33m)\u001b[0m \u001b[1;33m+\u001b[0m \u001b[1;34m'\\data\\\\modified\\\\'\u001b[0m \u001b[1;33m+\u001b[0m \u001b[1;34m'Modified-Dataframe_House-'\u001b[0m \u001b[1;33m+\u001b[0m \u001b[0mstr\u001b[0m\u001b[1;33m(\u001b[0m\u001b[0mhouse_name\u001b[0m\u001b[1;33m)\u001b[0m \u001b[1;33m+\u001b[0m \u001b[1;34m'.csv'\u001b[0m\u001b[1;33m\u001b[0m\u001b[1;33m\u001b[0m\u001b[0m\n\u001b[1;32m----> 4\u001b[1;33m     \u001b[0mdataset_modification\u001b[0m\u001b[1;33m(\u001b[0m\u001b[0minput_directory\u001b[0m\u001b[1;33m,\u001b[0m \u001b[0mhouse_name\u001b[0m\u001b[1;33m,\u001b[0m \u001b[0moutput_filename\u001b[0m\u001b[1;33m)\u001b[0m\u001b[1;33m\u001b[0m\u001b[1;33m\u001b[0m\u001b[0m\n\u001b[0m",
      "\u001b[1;32m~\\AppData\\Local\\Temp\\ipykernel_7772\\3015009549.py\u001b[0m in \u001b[0;36m?\u001b[1;34m(input_directory, house_name, output_filename)\u001b[0m\n\u001b[0;32m     28\u001b[0m             \u001b[0mzone_occupant\u001b[0m\u001b[1;33m[\u001b[0m\u001b[0moccupant_2_zone_id\u001b[0m\u001b[1;33m]\u001b[0m \u001b[1;33m+=\u001b[0m \u001b[1;36m1\u001b[0m\u001b[1;33m\u001b[0m\u001b[1;33m\u001b[0m\u001b[0m\n\u001b[0;32m     29\u001b[0m \u001b[1;33m\u001b[0m\u001b[0m\n\u001b[0;32m     30\u001b[0m             \u001b[0mrecords\u001b[0m\u001b[1;33m.\u001b[0m\u001b[0mappend\u001b[0m\u001b[1;33m(\u001b[0m\u001b[1;33m[\u001b[0m\u001b[0mday\u001b[0m\u001b[1;33m,\u001b[0m \u001b[0mint\u001b[0m\u001b[1;33m(\u001b[0m\u001b[0mi\u001b[0m\u001b[1;33m/\u001b[0m\u001b[1;36m60\u001b[0m\u001b[1;33m)\u001b[0m\u001b[1;33m,\u001b[0m \u001b[0mzone_occupant\u001b[0m\u001b[1;33m[\u001b[0m\u001b[1;36m0\u001b[0m\u001b[1;33m]\u001b[0m\u001b[1;33m,\u001b[0m \u001b[0mzone_occupant\u001b[0m\u001b[1;33m[\u001b[0m\u001b[1;36m1\u001b[0m\u001b[1;33m]\u001b[0m\u001b[1;33m,\u001b[0m \u001b[0mzone_occupant\u001b[0m\u001b[1;33m[\u001b[0m\u001b[1;36m2\u001b[0m\u001b[1;33m]\u001b[0m\u001b[1;33m,\u001b[0m \u001b[0mzone_occupant\u001b[0m\u001b[1;33m[\u001b[0m\u001b[1;36m3\u001b[0m\u001b[1;33m]\u001b[0m\u001b[1;33m,\u001b[0m \u001b[0mzone_occupant\u001b[0m\u001b[1;33m[\u001b[0m\u001b[1;36m4\u001b[0m\u001b[1;33m]\u001b[0m\u001b[1;33m]\u001b[0m\u001b[1;33m)\u001b[0m\u001b[1;33m\u001b[0m\u001b[1;33m\u001b[0m\u001b[0m\n\u001b[0;32m     31\u001b[0m \u001b[1;33m\u001b[0m\u001b[0m\n\u001b[1;32m---> 32\u001b[1;33m         \u001b[0mdataframe\u001b[0m \u001b[1;33m=\u001b[0m \u001b[0mdataframe\u001b[0m\u001b[1;33m.\u001b[0m\u001b[0mappend\u001b[0m\u001b[1;33m(\u001b[0m\u001b[0mpd\u001b[0m\u001b[1;33m.\u001b[0m\u001b[0mDataFrame\u001b[0m\u001b[1;33m(\u001b[0m\u001b[0mrecords\u001b[0m\u001b[1;33m,\u001b[0m \u001b[0mcolumns\u001b[0m\u001b[1;33m=\u001b[0m\u001b[0mdataframe\u001b[0m\u001b[1;33m.\u001b[0m\u001b[0mcolumns\u001b[0m\u001b[1;33m)\u001b[0m\u001b[1;33m,\u001b[0m \u001b[0mignore_index\u001b[0m\u001b[1;33m=\u001b[0m\u001b[1;32mTrue\u001b[0m\u001b[1;33m)\u001b[0m\u001b[1;33m\u001b[0m\u001b[1;33m\u001b[0m\u001b[0m\n\u001b[0m\u001b[0;32m     33\u001b[0m \u001b[1;33m\u001b[0m\u001b[0m\n\u001b[0;32m     34\u001b[0m     \u001b[0mdataframe\u001b[0m \u001b[1;33m=\u001b[0m \u001b[0mdataframe\u001b[0m\u001b[1;33m.\u001b[0m\u001b[0mreset_index\u001b[0m\u001b[1;33m(\u001b[0m\u001b[0mdrop\u001b[0m \u001b[1;33m=\u001b[0m \u001b[1;32mTrue\u001b[0m\u001b[1;33m)\u001b[0m\u001b[1;33m\u001b[0m\u001b[1;33m\u001b[0m\u001b[0m\n\u001b[0;32m     35\u001b[0m     \u001b[0mdataframe\u001b[0m\u001b[1;33m.\u001b[0m\u001b[0mto_csv\u001b[0m\u001b[1;33m(\u001b[0m\u001b[0moutput_filename\u001b[0m\u001b[1;33m,\u001b[0m \u001b[0mindex\u001b[0m \u001b[1;33m=\u001b[0m \u001b[1;32mFalse\u001b[0m\u001b[1;33m)\u001b[0m\u001b[1;33m\u001b[0m\u001b[1;33m\u001b[0m\u001b[0m\n",
      "\u001b[1;32m~\\anaconda3\\Lib\\site-packages\\pandas\\core\\generic.py\u001b[0m in \u001b[0;36m?\u001b[1;34m(self, name)\u001b[0m\n\u001b[0;32m   6295\u001b[0m             \u001b[1;32mand\u001b[0m \u001b[0mname\u001b[0m \u001b[1;32mnot\u001b[0m \u001b[1;32min\u001b[0m \u001b[0mself\u001b[0m\u001b[1;33m.\u001b[0m\u001b[0m_accessors\u001b[0m\u001b[1;33m\u001b[0m\u001b[1;33m\u001b[0m\u001b[0m\n\u001b[0;32m   6296\u001b[0m             \u001b[1;32mand\u001b[0m \u001b[0mself\u001b[0m\u001b[1;33m.\u001b[0m\u001b[0m_info_axis\u001b[0m\u001b[1;33m.\u001b[0m\u001b[0m_can_hold_identifiers_and_holds_name\u001b[0m\u001b[1;33m(\u001b[0m\u001b[0mname\u001b[0m\u001b[1;33m)\u001b[0m\u001b[1;33m\u001b[0m\u001b[1;33m\u001b[0m\u001b[0m\n\u001b[0;32m   6297\u001b[0m         \u001b[1;33m)\u001b[0m\u001b[1;33m:\u001b[0m\u001b[1;33m\u001b[0m\u001b[1;33m\u001b[0m\u001b[0m\n\u001b[0;32m   6298\u001b[0m             \u001b[1;32mreturn\u001b[0m \u001b[0mself\u001b[0m\u001b[1;33m[\u001b[0m\u001b[0mname\u001b[0m\u001b[1;33m]\u001b[0m\u001b[1;33m\u001b[0m\u001b[1;33m\u001b[0m\u001b[0m\n\u001b[1;32m-> 6299\u001b[1;33m         \u001b[1;32mreturn\u001b[0m \u001b[0mobject\u001b[0m\u001b[1;33m.\u001b[0m\u001b[0m__getattribute__\u001b[0m\u001b[1;33m(\u001b[0m\u001b[0mself\u001b[0m\u001b[1;33m,\u001b[0m \u001b[0mname\u001b[0m\u001b[1;33m)\u001b[0m\u001b[1;33m\u001b[0m\u001b[1;33m\u001b[0m\u001b[0m\n\u001b[0m",
      "\u001b[1;31mAttributeError\u001b[0m: 'DataFrame' object has no attribute 'append'"
     ]
    }
   ],
   "source": [
    "for house_name in ['A']:\n",
    "    input_directory = str(parent_directory) + '\\data\\\\raw\\\\house-' + house_name + '\\\\DAY-'\n",
    "    output_filename = str(parent_directory) + '\\data\\\\modified\\\\' + 'Modified-Dataframe_House-' + str(house_name) + '.csv'\n",
    "    dataset_modification(input_directory, house_name, output_filename)"
   ]
  }
 ],
 "metadata": {
  "kernelspec": {
   "display_name": "Python 3 (ipykernel)",
   "language": "python",
   "name": "python3"
  },
  "language_info": {
   "codemirror_mode": {
    "name": "ipython",
    "version": 3
   },
   "file_extension": ".py",
   "mimetype": "text/x-python",
   "name": "python",
   "nbconvert_exporter": "python",
   "pygments_lexer": "ipython3",
   "version": "3.12.4"
  }
 },
 "nbformat": 4,
 "nbformat_minor": 5
}
