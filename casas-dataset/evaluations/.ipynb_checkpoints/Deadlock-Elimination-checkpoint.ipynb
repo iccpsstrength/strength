{
 "cells": [
  {
   "cell_type": "markdown",
   "id": "e72ba809",
   "metadata": {},
   "source": [
    "# Import libraries"
   ]
  },
  {
   "cell_type": "code",
   "execution_count": 2,
   "id": "a0071443",
   "metadata": {},
   "outputs": [],
   "source": [
    "import pandas as pd\n",
    "import numpy as np\n",
    "import math\n",
    "import os\n",
    "import sys\n",
    "import json\n",
    "sys.path.append(\"../scripts/\")\n",
    "from ActualADM import *\n",
    "from LinearizedADM import *\n",
    "from DeadlockElimination import *"
   ]
  },
  {
   "cell_type": "markdown",
   "id": "ad41bab6",
   "metadata": {},
   "source": [
    "# Current and parent directories"
   ]
  },
  {
   "cell_type": "code",
   "execution_count": 4,
   "id": "2f959ae7",
   "metadata": {},
   "outputs": [],
   "source": [
    "current_directory = os.getcwd()\n",
    "parent_directory = os.path.dirname(current_directory)"
   ]
  },
  {
   "cell_type": "markdown",
   "id": "f066c9ad",
   "metadata": {},
   "source": [
    "# Read zone information"
   ]
  },
  {
   "cell_type": "code",
   "execution_count": 6,
   "id": "a23de9b7",
   "metadata": {},
   "outputs": [],
   "source": [
    "zones = pd.read_excel(str(parent_directory) + '/data/Aras-Information.xlsx', sheet_name='Zone-Info')\n",
    "num_zones = len(zones)\n",
    "num_timeslots = 1440"
   ]
  },
  {
   "cell_type": "markdown",
   "id": "6d340b48",
   "metadata": {},
   "source": [
    "# Deadlock Elimination for Actual ADM"
   ]
  },
  {
   "cell_type": "code",
   "execution_count": 8,
   "id": "02248e9a",
   "metadata": {},
   "outputs": [
    {
     "name": "stdout",
     "output_type": "stream",
     "text": [
      "House A Occupant 1\n",
      "House A Occupant 2\n",
      "Execution Time: 84.62247061729431\n",
      "Linearized: House: A, Occupant: 2, ADM Algo: DBSCAN\n"
     ]
    }
   ],
   "source": [
    "adm_algo = \"DBSCAN\"\n",
    "for house_name in ['A']:\n",
    "    for occupant_id in ['1', '2']:\n",
    "        print(\"House\", house_name, \"Occupant\", occupant_id)\n",
    "        dataframe = pd.read_csv(str(parent_directory) + '/data/cleaned/' + 'Cleaned-Dataframe_House-' + str(house_name) + '_Occupant-' + str(occupant_id) + '.csv')                                                                                                       \n",
    "        actual_adm = ActualADM(adm_algo, dataframe, house_name, occupant_id, num_timeslots, num_zones)\n",
    "        list_time_min, list_time_max = actual_adm.noise_augmented_range_calculation()\n",
    "        analytics = DeadlockElimination(num_timeslots, num_zones, list_time_min, list_time_max)\n",
    "        deadlock_info = analytics.deadlock_elimination()\n",
    "        print(\"Linearized: House: \" + str(house_name) + \", Occupant: \" + str(occupant_id) + \", ADM Algo: \" + str(adm_algo))                  \n",
    "\n",
    "        output_filename = str(parent_directory) + '/data/deadlock-elimination/Actual_' + str(adm_algo) + '_House-' + str(house_name) + '_Occupant-' + str(occupant_id) + '.json'\n",
    "\n",
    "        with open(output_filename, \"w\") as json_file:\n",
    "            json.dump(deadlock_info, json_file)"
   ]
  },
  {
   "cell_type": "markdown",
   "id": "788f3e4d",
   "metadata": {},
   "source": [
    "# Deadlock Elimination for Linearized ADM"
   ]
  },
  {
   "cell_type": "code",
   "execution_count": 10,
   "id": "34adca41",
   "metadata": {},
   "outputs": [
    {
     "name": "stdout",
     "output_type": "stream",
     "text": [
      "House A Occupant 1\n",
      "House A Occupant 2\n",
      "Execution Time: 41.16186285018921\n",
      "Linearized: House: A, Occupant: 2, ADM Algo: DBSCAN\n"
     ]
    }
   ],
   "source": [
    "adm_algo = \"DBSCAN\"\n",
    "for house_name in ['A']:\n",
    "    for occupant_id in ['1', '2']:\n",
    "        print(\"House\", house_name, \"Occupant\", occupant_id)\n",
    "        dataframe = pd.read_csv(str(parent_directory) + '/data/cleaned/' + 'Cleaned-Dataframe_House-' + str(house_name) + '_Occupant-' + str(occupant_id) + '.csv')                                                                                                       \n",
    "        linearized_adm = LinearizedADM(adm_algo, dataframe, house_name, occupant_id, num_timeslots, num_zones)\n",
    "        list_time_min, list_time_max = linearized_adm.noise_augmented_range_calculation()\n",
    "        analytics = DeadlockElimination(num_timeslots, num_zones, list_time_min, list_time_max)\n",
    "        deadlock_info = analytics.deadlock_elimination()\n",
    "        print(\"Linearized: House: \" + str(house_name) + \", Occupant: \" + str(occupant_id) + \", ADM Algo: \" + str(adm_algo))                  \n",
    "\n",
    "        output_filename = str(parent_directory) + '/data/deadlock-elimination/Linearized_' + str(adm_algo) + '_House-' + str(house_name) + '_Occupant-' + str(occupant_id) + '.json'\n",
    "\n",
    "        with open(output_filename, \"w\") as json_file:\n",
    "            json.dump(deadlock_info, json_file)"
   ]
  }
 ],
 "metadata": {
  "kernelspec": {
   "display_name": "Python 3 (ipykernel)",
   "language": "python",
   "name": "python3"
  },
  "language_info": {
   "codemirror_mode": {
    "name": "ipython",
    "version": 3
   },
   "file_extension": ".py",
   "mimetype": "text/x-python",
   "name": "python",
   "nbconvert_exporter": "python",
   "pygments_lexer": "ipython3",
   "version": "3.12.4"
  }
 },
 "nbformat": 4,
 "nbformat_minor": 5
}
