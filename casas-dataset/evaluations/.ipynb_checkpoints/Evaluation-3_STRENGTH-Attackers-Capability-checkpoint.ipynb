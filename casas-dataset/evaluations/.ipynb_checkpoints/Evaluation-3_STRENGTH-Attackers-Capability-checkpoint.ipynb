{
 "cells": [
  {
   "cell_type": "markdown",
   "id": "3f8599ec",
   "metadata": {},
   "source": [
    "# Import libraries"
   ]
  },
  {
   "cell_type": "code",
   "execution_count": 1,
   "id": "554519c6",
   "metadata": {},
   "outputs": [],
   "source": [
    "import pandas as pd\n",
    "import numpy as np\n",
    "from z3 import *\n",
    "from itertools import combinations\n",
    "import itertools\n",
    "import matplotlib.pyplot as plt\n",
    "import os\n",
    "import json\n",
    "import sys\n",
    "sys.path.append(\"../scripts/\")\n",
    "from ControlCost import *\n",
    "from ActualADM import *\n",
    "from AttackCost import *\n",
    "from LinearizedADM import *\n",
    "import warnings\n",
    "warnings.filterwarnings('ignore')"
   ]
  },
  {
   "cell_type": "markdown",
   "id": "78265d3b",
   "metadata": {},
   "source": [
    "# Current and parent directories"
   ]
  },
  {
   "cell_type": "code",
   "execution_count": 2,
   "id": "67fa2dfd",
   "metadata": {},
   "outputs": [],
   "source": [
    "current_directory = os.getcwd()\n",
    "parent_directory = os.path.dirname(current_directory)"
   ]
  },
  {
   "cell_type": "markdown",
   "id": "0645ce12",
   "metadata": {},
   "source": [
    "# Accessing Zone-Activity-Appliances Information"
   ]
  },
  {
   "cell_type": "code",
   "execution_count": 3,
   "id": "4c035d77",
   "metadata": {},
   "outputs": [],
   "source": [
    "zones = pd.read_excel(str(parent_directory) + '/data/Aras-Information.xlsx', sheet_name='Zone-Info')\n",
    "zone_volume = zones[\"Volume (cf)\"].to_list()                  # Zones' volumes (cubic feet)\n",
    "\n",
    "energy_appliances = pd.read_excel(str(parent_directory) + '/data/Aras-Information.xlsx', sheet_name='Appliances-Info').iloc[:,-1].to_numpy()\n",
    "benign_activity_appliances_map = pd.read_excel(str(parent_directory) + '/data/Aras-Information.xlsx', sheet_name='Benign-Activity-Appliances-Map').iloc[:, 4:].to_numpy()\n",
    "\n",
    "pp_co2 = zones[\"CO2 Emission by Occupant (cfm)\"].to_list()    # CO2 Emission by Occupant (cfm)\n",
    "pp_heat = zones[\"Heat Radiation by Occupant (W)\"].to_list()   # Heat Radiation by Occupant (W)\n",
    "load = zones[\"Heat Radiated by Appliances (W)\"].to_list()     # Heat radiated by Appliances (W)\n",
    "\n",
    "num_zones = len(zones)\n",
    "num_timeslots = 1440\n",
    "\n",
    "activities = pd.read_excel(str(parent_directory) + '/data/Aras-Information.xlsx', sheet_name='Activity-Info')\n",
    "num_activities = len(activities)\n",
    "activity_zone_map = dict()\n",
    "for i in range(len(activities)):\n",
    "    activity_zone_map[int(activities[\"Activity ID\"][i])] = int(activities[\"Zone ID\"][i])\n",
    "\n",
    "activity_zone_temp_setpoint = [0]\n",
    "activity_zone_co2_setpoint = [0] \n",
    "activity_pp_co2 = [0] + activities['CO2 Emission by Occupant (CFM)'].to_list()    # CO2 Emission by Occupant (cfm)\n",
    "activity_pp_heat = [0] + activities[\"Heat Radiation by Occupant (W)\"].to_list()   # Heat Radiation by Occupant (W)\n",
    "activity_load = [0]# Heat radiated by Appliances (W)\n",
    "activity_zone_volume = [0]\n",
    "\n",
    "for i in range(1, num_activities + 1):\n",
    "    activity_zone_temp_setpoint.append(zone_temp_setpoint[activity_zone_map[i]])\n",
    "    activity_zone_co2_setpoint.append(zone_co2_setpoint[activity_zone_map[i]])\n",
    "    activity_zone_volume.append(zone_volume[activity_zone_map[i]])\n",
    "    activity_load.append(sum(benign_activity_appliances_map[i] * energy_appliances))\n",
    "    \n",
    "all_samples = list(itertools.permutations([1, 1, 0, 0, 0]))\n",
    "all_samples += list(itertools.permutations([2, 0, 0, 0, 0]))\n",
    "\n",
    "unique_samples = set()\n",
    "\n",
    "for data in all_samples:    \n",
    "    unique_samples.add(data)"
   ]
  },
  {
   "cell_type": "markdown",
   "id": "d3217f35",
   "metadata": {},
   "source": [
    "# Convert list to a tuple"
   ]
  },
  {
   "cell_type": "code",
   "execution_count": 4,
   "id": "1a0c4d94",
   "metadata": {},
   "outputs": [],
   "source": [
    "def to_tuple(a):\n",
    "    try:\n",
    "        return tuple(to_tuple(i) for i in a)\n",
    "    except TypeError:\n",
    "        return a"
   ]
  },
  {
   "cell_type": "markdown",
   "id": "f8f3aadd",
   "metadata": {},
   "source": [
    "# Fixed parameters"
   ]
  },
  {
   "cell_type": "code",
   "execution_count": 5,
   "id": "0d08f636",
   "metadata": {},
   "outputs": [],
   "source": [
    "CO2_FRESH_AIR = 400             # CO2 concentration (ppm) of fresh air\n",
    "TEMP_FRESH_AIR = 91.4           # Temperature (33 degree F) of the fresh air\n",
    "CP_AIR = 1.026                  # Specific heat of fresh air\n",
    "DEF_TEMP_SUPPLY_AIR =  55.4     # Default temperature (degree fahrenheit) of supply air (13 degree celsius)"
   ]
  },
  {
   "cell_type": "markdown",
   "id": "aa1cdd03",
   "metadata": {},
   "source": [
    "# Control cost calculation"
   ]
  },
  {
   "cell_type": "code",
   "execution_count": 6,
   "id": "e919024a",
   "metadata": {},
   "outputs": [],
   "source": [
    "def control_cost (zones, zone_occupant, zone_temp_setpoint, zone_volume, pp_co2, pp_heat, load, zone_co2_setpoint, control_time):\n",
    "    '''\n",
    "    PARAMETERS:\n",
    "    zones: zone information\n",
    "    zone_occupant: list of occupants in different zones\n",
    "    zone_temp_setpoint: list of temperature (fahrenheit) setpoint of the different zones\n",
    "    zone_volume: # Zones' volumes (cubic feet)\n",
    "    pp_co2: CO2 Emission by Occupant (cfm)\n",
    "    pp_heat: Heat Radiation by Occupant (W)\n",
    "    load: Heat radiated by Appliances (W)\n",
    "    zone_co2_setpoint: list of CO2 (ppm) setpoint of the corresponding zones\n",
    "    control_time: time of control operation (in minute)\n",
    "    energy_cost: cost per KWh (USD) at the control time\n",
    "    '''\n",
    "    num_zones = len(zones)\n",
    "    # initializing z3 variables\n",
    "    v_vent_air = [Real( 'v_vent_air_' + str(i)) for i in range(num_zones)]   # Air required for ventillation (CFM)\n",
    "    v_temp_air = [Real( 'v_temp_air_' + str(i)) for i in range(num_zones)]   # Air required for cooling (CFM)\n",
    "    v_mixed_air = [Real( 'v_mixed_air_' + str(i)) for i in range(num_zones)]\n",
    "    v_fresh_air = [Real( 'v_fresh_air_' + str(i)) for i in range(num_zones)]\n",
    "    v_return_air = [Real( 'v_return_air_' + str(i)) for i in range(num_zones)]\n",
    "    zone_cost = [Real( 'zone_cost' + str(i)) for i in range(num_zones)] \n",
    "    \n",
    "    temp_supply_air = [ Real( 'temp_supply_air_' + str(i)) for i in range(num_zones)]\n",
    "    temp_mixed_air = [ Real( 'temp_mixed_air_' + str(i)) for i in range(num_zones)]\n",
    "    co2_mixed_air = [ Real( 'co2_mixed_air_' + str(i)) for i in range(num_zones)]\n",
    "    total_zone_cost = Real('total_zone_cost')\n",
    "\n",
    "    s = Solver()\n",
    "    \n",
    "    for i in range(1, num_zones):\n",
    "        ############### v_vent_air ###############################\n",
    "        s.add(zone_occupant[i] * ((pp_co2[i] * 1000000) / zone_volume[i]) == \n",
    "                       (zone_co2_setpoint[i] - (( 1 - (v_vent_air[i]) /zone_volume[i]) * zone_co2_setpoint[i] +  \n",
    "                                                (v_vent_air[i] * CO2_FRESH_AIR) /  zone_volume[i])))\n",
    "        \n",
    "        ############### v_temp_air ###############################\n",
    "        if zone_occupant[i] > 0:\n",
    "            s.add(v_temp_air[i] *  (zone_temp_setpoint[i] - DEF_TEMP_SUPPLY_AIR) * 0.3167 == zone_occupant[i] * pp_heat[i] + load[i]) \n",
    "        else:\n",
    "            s.add(v_temp_air[i] *  (zone_temp_setpoint[i] - DEF_TEMP_SUPPLY_AIR) * 0.3167 == zone_occupant[i] * pp_heat[i]) \n",
    "    \n",
    "        ############### v_mixed_air ###############################\n",
    "        s.add(zone_occupant[i] * ((pp_co2[i] * 1000000) / zone_volume[i]) == \n",
    "              (zone_co2_setpoint[i] - (( 1 - ( v_mixed_air[i] ) / zone_volume[i]) * zone_co2_setpoint[i] + \n",
    "                                     ( v_mixed_air[i] * co2_mixed_air[i]) / zone_volume[i])))\n",
    "    \n",
    "        if zone_occupant[i] > 0:\n",
    "            s.add(v_mixed_air[i] * (zone_temp_setpoint[i] - temp_supply_air[i]) * 0.3167 == zone_occupant[i] * pp_heat[i] + load[i])\n",
    "        else:\n",
    "            s.add(v_mixed_air[i] * (zone_temp_setpoint[i] - temp_supply_air[i]) * 0.3167 == zone_occupant[i] * pp_heat[i])\n",
    "\n",
    "        s.add(v_mixed_air[i] == v_return_air[i] + v_fresh_air[i])\n",
    "        s.add(co2_mixed_air[i] == zone_co2_setpoint[i] * (v_return_air[i] / v_mixed_air[i]) + CO2_FRESH_AIR * (v_fresh_air[i] / v_mixed_air[i]))\n",
    "        s.add(temp_mixed_air[i] == zone_temp_setpoint[i] * (v_return_air[i] / v_mixed_air[i]) + TEMP_FRESH_AIR * (v_fresh_air[i] / v_mixed_air[i]))\n",
    "    \n",
    "        ############### temperature control algorithm ############\n",
    "        s.add(Implies(v_vent_air[i] >= v_temp_air[i] , v_return_air[i] == 0))\n",
    "        s.add(Implies(v_vent_air[i] < v_temp_air[i] ,  temp_supply_air[i] == 55.4))\n",
    "    \n",
    "        ############### other constraints ########################\n",
    "        s.add(v_return_air[i] >= 0)\n",
    "        s.add(temp_supply_air[i] >= 55.4)\n",
    "        \n",
    "        ############## cost constraint ###########################\n",
    "        s.add(zone_cost[i] == v_mixed_air[i] * (temp_mixed_air[i] - DEF_TEMP_SUPPLY_AIR) * 0.3167 * (control_time / 60000))\n",
    "    s.add(total_zone_cost == Sum(zone_cost[1:]))\n",
    "    s.check()\n",
    "    \n",
    "    for i in range(1, num_zones):\n",
    "        v_vent_air[i] = float(Fraction(str(s.model()[v_vent_air[i]])))\n",
    "        v_temp_air[i] = float(Fraction(str(s.model()[v_temp_air[i]])))\n",
    "    \n",
    "        v_mixed_air[i] = float(Fraction(str(s.model()[v_mixed_air[i]])))\n",
    "        temp_mixed_air[i] = float(Fraction(str(s.model()[temp_mixed_air[i]])))\n",
    "    \n",
    "        temp_supply_air[i] = float(Fraction(str(s.model()[temp_supply_air[i]])))\n",
    "    \n",
    "        co2_mixed_air[i] = float(Fraction(str(s.model()[co2_mixed_air[i]])))\n",
    "        v_return_air[i] = float(Fraction(str(s.model()[v_return_air[i]])))\n",
    "        v_fresh_air[i] = float(Fraction(str(s.model()[v_fresh_air[i]])))\n",
    "        \n",
    "        zone_cost[i] = float(Fraction(str(s.model()[zone_cost[i]])))\n",
    "    total_zone_cost = float(Fraction(str(s.model()[total_zone_cost])))\n",
    "        \n",
    "    return total_zone_cost\n",
    "\n",
    "dict_control_cost = dict()\n",
    "for sample in unique_samples:\n",
    "    zone_occupant = list(sample)    \n",
    "    dict_control_cost[sample] = control_cost(zones, zone_occupant, zone_temp_setpoint, zone_volume, pp_co2, pp_heat, load, zone_co2_setpoint, control_time)"
   ]
  },
  {
   "cell_type": "markdown",
   "id": "603660d6",
   "metadata": {},
   "source": [
    "# Zone-wise appliances"
   ]
  },
  {
   "cell_type": "code",
   "execution_count": 7,
   "id": "13f0edee",
   "metadata": {},
   "outputs": [],
   "source": [
    "zone_appliance = []\n",
    "zone_appliance.append([1, 2]) #0\n",
    "zone_appliance.append([11, 16, 17, 23, 27]) #1\n",
    "zone_appliance.append([12, 13, 18, 22, 25, 26]) #2\n",
    "zone_appliance.append([3, 4, 5, 6, 7, 8, 9, 10, 19, 24]) #3\n",
    "zone_appliance.append([14, 15, 20, 21]) #4"
   ]
  },
  {
   "cell_type": "markdown",
   "id": "d82ad1f9",
   "metadata": {},
   "source": [
    "# Zone-wise maximum cost for appliances"
   ]
  },
  {
   "cell_type": "code",
   "execution_count": 8,
   "id": "b38da931",
   "metadata": {},
   "outputs": [],
   "source": [
    "zone_cost = [0, 0, 0, 0, 0]\n",
    "for i in range(len(zone_cost)):\n",
    "    all_costs = []\n",
    "    for j in range(len(zone_appliance[i])):\n",
    "        all_costs.append(activity_load[zone_appliance[i][j]])\n",
    "    zone_cost[i] =  max(all_costs)"
   ]
  },
  {
   "cell_type": "code",
   "execution_count": 9,
   "id": "17f65d33",
   "metadata": {},
   "outputs": [],
   "source": [
    "def states_to_schedule(states):\n",
    "    schedule = np.full(num_timeslots, 0)\n",
    "    for state in states:\n",
    "        arrival_time = int(state.split('-')[0])\n",
    "        arrival_zone = int(float(state.split('-')[1]))\n",
    "        state_stay_duration = int(state.split('-')[2])\n",
    "        schedule[arrival_time : arrival_time + state_stay_duration] = arrival_zone\n",
    "    \n",
    "    return schedule"
   ]
  },
  {
   "cell_type": "markdown",
   "id": "202c1082",
   "metadata": {},
   "source": [
    "# (STRENGTH) Tabulating Cost for Actual ADM"
   ]
  },
  {
   "cell_type": "code",
   "execution_count": 10,
   "id": "770bdd1b",
   "metadata": {},
   "outputs": [
    {
     "name": "stdout",
     "output_type": "stream",
     "text": [
      "A DBSCAN\n",
      "B DBSCAN\n"
     ]
    }
   ],
   "source": [
    "strength_actual_adm = pd.DataFrame()\n",
    "\n",
    "house_names = []\n",
    "adm_algos = []\n",
    "costs = []\n",
    "for house_name in ['A', 'B']:\n",
    "    for adm_algo in [\"DBSCAN\"]:\n",
    "        print(house_name, adm_algo)\n",
    "        \n",
    "        control_costs = pd.read_csv(str(parent_directory) + '/data/control-costs/Control-Costs_House-' +str(house_name) +'.csv')['Control Cost ($)'] \n",
    "        day_wise_control_costs = []\n",
    "        for i in range(0, 43200, 1440):\n",
    "            day_wise_control_costs.append(sum(control_costs[i:i+1400]))\n",
    "\n",
    "        attack_schedule_1_file = str(parent_directory) + '/data/attack-schedules/strength/Actual_' + str(adm_algo) + '_House-' + str(house_name) + '_Occupant-1.json'\n",
    "        attack_schedule_2_file = str(parent_directory) + '/data/attack-schedules/strength/Actual_' + str(adm_algo) + '_House-' + str(house_name) + '_Occupant-2.json'\n",
    "\n",
    "        with open(attack_schedule_1_file, 'r') as file:\n",
    "            attack_schedule_1 = states_to_schedule(json.load(file)[\"Longest-Path\"])\n",
    "\n",
    "        with open(attack_schedule_2_file, 'r') as file:\n",
    "            attack_schedule_2 = states_to_schedule(json.load(file)[\"Longest-Path\"])\n",
    "\n",
    "        dataframe = pd.read_csv(str(parent_directory) + '/data/modified/' + 'Modified-Dataframe_House-' + str(house_name) + '.csv')\n",
    "        cleaned_dataframe_occ_1 = pd.read_csv(str(parent_directory) + '/data/cleaned/' + 'Cleaned-Dataframe_House-' + str(house_name) + '_Occupant-1' + '.csv')\n",
    "        cleaned_dataframe_occ_2 = pd.read_csv(str(parent_directory) + '/data/cleaned/' + 'Cleaned-Dataframe_House-' + str(house_name) + '_Occupant-2' + '.csv')\n",
    "\n",
    "        processed_dataframe = pd.read_csv(str(parent_directory) + '/data/processed/' + 'Processed-Dataframe_House-' + str(house_name) + '.csv')\n",
    "\n",
    "        filename = str(parent_directory) + '/data/deadlock-elimination/Actual_' + str(adm_algo) + '_House-' + str(house_name) + '_Occupant-1.json'\n",
    "        with open(filename, \"r\") as file:\n",
    "            data = json.load(file)\n",
    "\n",
    "        list_time_min_occ_1 = data[\"List-Time-Min\"]\n",
    "        list_time_max_occ_1 = data[\"List-Time-Max\"]\n",
    "\n",
    "        filename = str(parent_directory) + '/data/deadlock-elimination/Actual_' + str(adm_algo) + '_House-' + str(house_name) + '_Occupant-2.json'\n",
    "        with open(filename, \"r\") as file:\n",
    "            data = json.load(file)\n",
    "\n",
    "        list_time_min_occ_2 = data[\"List-Time-Min\"]\n",
    "        list_time_max_occ_2 = data[\"List-Time-Max\"]\n",
    "\n",
    "        without_appliances_attack_costs = AttackCost(house_name, dataframe, cleaned_dataframe_occ_1, cleaned_dataframe_occ_2, processed_dataframe, list_time_min_occ_1, list_time_max_occ_1, list_time_min_occ_2, list_time_max_occ_2, attack_schedule_1, attack_schedule_2, dict_control_cost, num_timeslots, num_zones, activity_zone_map, zone_cost).get_attack_costs_without_appliance_triggering()\n",
    "        with_appliances_attack_costs = AttackCost(house_name, dataframe, cleaned_dataframe_occ_1, cleaned_dataframe_occ_2, processed_dataframe, list_time_min_occ_1, list_time_max_occ_1, list_time_min_occ_2, list_time_max_occ_2, attack_schedule_1, attack_schedule_2, dict_control_cost, num_timeslots, num_zones, activity_zone_map, zone_cost).get_attack_costs_with_appliance_triggering().tolist()\n",
    "\n",
    "        house_names.append(house_name)\n",
    "        adm_algos.append(adm_algo)\n",
    "        costs.append(round(sum([a + b for a, b in zip(without_appliances_attack_costs, with_appliances_attack_costs)]), 2))\n",
    "\n",
    "strength_actual_adm[\"Houses\"] = house_names        \n",
    "strength_actual_adm[\"ADM Algos\"] = adm_algos          \n",
    "strength_actual_adm[\"Costs\"] = costs"
   ]
  },
  {
   "cell_type": "code",
   "execution_count": 11,
   "id": "204544c3",
   "metadata": {},
   "outputs": [
    {
     "data": {
      "text/html": [
       "<div>\n",
       "<style scoped>\n",
       "    .dataframe tbody tr th:only-of-type {\n",
       "        vertical-align: middle;\n",
       "    }\n",
       "\n",
       "    .dataframe tbody tr th {\n",
       "        vertical-align: top;\n",
       "    }\n",
       "\n",
       "    .dataframe thead th {\n",
       "        text-align: right;\n",
       "    }\n",
       "</style>\n",
       "<table border=\"1\" class=\"dataframe\">\n",
       "  <thead>\n",
       "    <tr style=\"text-align: right;\">\n",
       "      <th></th>\n",
       "      <th>Houses</th>\n",
       "      <th>ADM Algos</th>\n",
       "      <th>Costs</th>\n",
       "    </tr>\n",
       "  </thead>\n",
       "  <tbody>\n",
       "    <tr>\n",
       "      <th>0</th>\n",
       "      <td>A</td>\n",
       "      <td>DBSCAN</td>\n",
       "      <td>707.51</td>\n",
       "    </tr>\n",
       "    <tr>\n",
       "      <th>1</th>\n",
       "      <td>B</td>\n",
       "      <td>DBSCAN</td>\n",
       "      <td>221.97</td>\n",
       "    </tr>\n",
       "  </tbody>\n",
       "</table>\n",
       "</div>"
      ],
      "text/plain": [
       "  Houses ADM Algos   Costs\n",
       "0      A    DBSCAN  707.51\n",
       "1      B    DBSCAN  221.97"
      ]
     },
     "execution_count": 11,
     "metadata": {},
     "output_type": "execute_result"
    }
   ],
   "source": [
    "strength_actual_adm"
   ]
  },
  {
   "cell_type": "markdown",
   "id": "2291b359",
   "metadata": {},
   "source": [
    "# (STRENGTH) Tabulating Cost for Linearized ADM"
   ]
  },
  {
   "cell_type": "code",
   "execution_count": 12,
   "id": "d64b64a2",
   "metadata": {},
   "outputs": [
    {
     "name": "stdout",
     "output_type": "stream",
     "text": [
      "A DBSCAN\n",
      "B DBSCAN\n"
     ]
    }
   ],
   "source": [
    "strength_linearized_adm = pd.DataFrame()\n",
    "\n",
    "house_names = []\n",
    "adm_algos = []\n",
    "costs = []\n",
    "for house_name in ['A', 'B']:\n",
    "    for adm_algo in [\"DBSCAN\"]:\n",
    "        print(house_name, adm_algo)\n",
    "        \n",
    "        control_costs = pd.read_csv(str(parent_directory) + '/data/control-costs/Control-Costs_House-' +str(house_name) +'.csv')['Control Cost ($)'] \n",
    "        day_wise_control_costs = []\n",
    "        for i in range(0, 43200, 1440):\n",
    "            day_wise_control_costs.append(sum(control_costs[i : i+1400]))\n",
    "\n",
    "        attack_schedule_1_file = str(parent_directory) + '/data/attack-schedules/strength/Linearized_' + str(adm_algo) + '_House-' + str(house_name) + '_Occupant-1.json'\n",
    "        attack_schedule_2_file = str(parent_directory) + '/data/attack-schedules/strength/Linearized_' + str(adm_algo) + '_House-' + str(house_name) + '_Occupant-2.json'\n",
    "\n",
    "        with open(attack_schedule_1_file, 'r') as file:\n",
    "            attack_schedule_1 = states_to_schedule(json.load(file)[\"Longest-Path\"])\n",
    "\n",
    "        with open(attack_schedule_2_file, 'r') as file:\n",
    "            attack_schedule_2 = states_to_schedule(json.load(file)[\"Longest-Path\"])\n",
    "\n",
    "        dataframe = pd.read_csv(str(parent_directory) + '/data/modified/' + 'Modified-Dataframe_House-' + str(house_name) + '.csv')\n",
    "        cleaned_dataframe_occ_1 = pd.read_csv(str(parent_directory) + '/data/cleaned/' + 'Cleaned-Dataframe_House-' + str(house_name) + '_Occupant-1' + '.csv')\n",
    "        cleaned_dataframe_occ_2 = pd.read_csv(str(parent_directory) + '/data/cleaned/' + 'Cleaned-Dataframe_House-' + str(house_name) + '_Occupant-2' + '.csv')\n",
    "\n",
    "        processed_dataframe = pd.read_csv(str(parent_directory) + '/data/processed/' + 'Processed-Dataframe_House-' + str(house_name) + '.csv')\n",
    "\n",
    "        filename = str(parent_directory) + '/data/deadlock-elimination/Linearized_' + str(adm_algo) + '_House-' + str(house_name) + '_Occupant-1.json'\n",
    "        with open(filename, \"r\") as file:\n",
    "            data = json.load(file)\n",
    "\n",
    "        list_time_min_occ_1 = data[\"List-Time-Min\"]\n",
    "        list_time_max_occ_1 = data[\"List-Time-Max\"]\n",
    "\n",
    "        filename = str(parent_directory) + '/data/deadlock-elimination/Linearized_' + str(adm_algo) + '_House-' + str(house_name) + '_Occupant-2.json'\n",
    "        with open(filename, \"r\") as file:\n",
    "            data = json.load(file)\n",
    "\n",
    "        list_time_min_occ_2 = data[\"List-Time-Min\"]\n",
    "        list_time_max_occ_2 = data[\"List-Time-Max\"]\n",
    "\n",
    "        without_appliances_attack_costs = AttackCost(house_name, dataframe, cleaned_dataframe_occ_1, cleaned_dataframe_occ_2, processed_dataframe, list_time_min_occ_1, list_time_max_occ_1, list_time_min_occ_2, list_time_max_occ_2, attack_schedule_1, attack_schedule_2, dict_control_cost, num_timeslots, num_zones, activity_zone_map, zone_cost).get_attack_costs_without_appliance_triggering()\n",
    "        with_appliances_attack_costs = AttackCost(house_name, dataframe, cleaned_dataframe_occ_1, cleaned_dataframe_occ_2, processed_dataframe, list_time_min_occ_1, list_time_max_occ_1, list_time_min_occ_2, list_time_max_occ_2, attack_schedule_1, attack_schedule_2, dict_control_cost, num_timeslots, num_zones, activity_zone_map, zone_cost).get_attack_costs_with_appliance_triggering().tolist()\n",
    "\n",
    "        house_names.append(house_name)\n",
    "        adm_algos.append(adm_algo)\n",
    "        costs.append(round(sum([a + b for a, b in zip(without_appliances_attack_costs, with_appliances_attack_costs)]), 2))\n",
    "\n",
    "strength_linearized_adm[\"Houses\"] = house_names        \n",
    "strength_linearized_adm[\"ADM Algos\"] = adm_algos          \n",
    "strength_linearized_adm[\"Costs\"] = costs"
   ]
  },
  {
   "cell_type": "code",
   "execution_count": 13,
   "id": "f4f28198",
   "metadata": {},
   "outputs": [
    {
     "data": {
      "text/html": [
       "<div>\n",
       "<style scoped>\n",
       "    .dataframe tbody tr th:only-of-type {\n",
       "        vertical-align: middle;\n",
       "    }\n",
       "\n",
       "    .dataframe tbody tr th {\n",
       "        vertical-align: top;\n",
       "    }\n",
       "\n",
       "    .dataframe thead th {\n",
       "        text-align: right;\n",
       "    }\n",
       "</style>\n",
       "<table border=\"1\" class=\"dataframe\">\n",
       "  <thead>\n",
       "    <tr style=\"text-align: right;\">\n",
       "      <th></th>\n",
       "      <th>Houses</th>\n",
       "      <th>ADM Algos</th>\n",
       "      <th>Costs</th>\n",
       "    </tr>\n",
       "  </thead>\n",
       "  <tbody>\n",
       "    <tr>\n",
       "      <th>0</th>\n",
       "      <td>A</td>\n",
       "      <td>DBSCAN</td>\n",
       "      <td>659.78</td>\n",
       "    </tr>\n",
       "    <tr>\n",
       "      <th>1</th>\n",
       "      <td>B</td>\n",
       "      <td>DBSCAN</td>\n",
       "      <td>190.37</td>\n",
       "    </tr>\n",
       "  </tbody>\n",
       "</table>\n",
       "</div>"
      ],
      "text/plain": [
       "  Houses ADM Algos   Costs\n",
       "0      A    DBSCAN  659.78\n",
       "1      B    DBSCAN  190.37"
      ]
     },
     "execution_count": 13,
     "metadata": {},
     "output_type": "execute_result"
    }
   ],
   "source": [
    "strength_linearized_adm"
   ]
  },
  {
   "cell_type": "markdown",
   "id": "8a58d8dc",
   "metadata": {},
   "source": [
    "# (SHATTER) Tabulating Cost for Actual ADM"
   ]
  },
  {
   "cell_type": "code",
   "execution_count": 14,
   "id": "b674b137",
   "metadata": {},
   "outputs": [
    {
     "name": "stdout",
     "output_type": "stream",
     "text": [
      "A DBSCAN\n",
      "B DBSCAN\n"
     ]
    }
   ],
   "source": [
    "shatter_actual_adm = pd.DataFrame()\n",
    "\n",
    "house_names = []\n",
    "adm_algos = []\n",
    "costs = []\n",
    "for house_name in ['A', 'B']:\n",
    "    for adm_algo in [\"DBSCAN\"]:\n",
    "        print(house_name, adm_algo)\n",
    "        \n",
    "        control_costs = pd.read_csv(str(parent_directory) + '/data/control-costs/Control-Costs_House-' +str(house_name) +'.csv')['Control Cost ($)'] \n",
    "        day_wise_control_costs = []\n",
    "        for i in range(0, 43200, 1440):\n",
    "            day_wise_control_costs.append(sum(control_costs[i:i+1400]))\n",
    "\n",
    "        attack_schedule_1_file = str(parent_directory) + '/data/attack-schedules/shatter/Actual_' + str(adm_algo) + '_House-' + str(house_name) + '_Occupant-1.json'\n",
    "        attack_schedule_2_file = str(parent_directory) + '/data/attack-schedules/shatter/Actual_' + str(adm_algo) + '_House-' + str(house_name) + '_Occupant-2.json'\n",
    "\n",
    "        with open(attack_schedule_1_file, 'r') as file:\n",
    "            attack_schedule_1 = states_to_schedule(json.load(file)[\"All-States\"])\n",
    "\n",
    "        with open(attack_schedule_2_file, 'r') as file:\n",
    "            attack_schedule_2 = states_to_schedule(json.load(file)[\"All-States\"])\n",
    "\n",
    "        dataframe = pd.read_csv(str(parent_directory) + '/data/modified/' + 'Modified-Dataframe_House-' + str(house_name) + '.csv')\n",
    "        cleaned_dataframe_occ_1 = pd.read_csv(str(parent_directory) + '/data/cleaned/' + 'Cleaned-Dataframe_House-' + str(house_name) + '_Occupant-1' + '.csv')\n",
    "        cleaned_dataframe_occ_2 = pd.read_csv(str(parent_directory) + '/data/cleaned/' + 'Cleaned-Dataframe_House-' + str(house_name) + '_Occupant-2' + '.csv')\n",
    "\n",
    "        processed_dataframe = pd.read_csv(str(parent_directory) + '/data/processed/' + 'Processed-Dataframe_House-' + str(house_name) + '.csv')\n",
    "\n",
    "        filename = str(parent_directory) + '/data/deadlock-elimination/Actual_' + str(adm_algo) + '_House-' + str(house_name) + '_Occupant-1.json'\n",
    "        with open(filename, \"r\") as file:\n",
    "            data = json.load(file)\n",
    "\n",
    "        list_time_min_occ_1 = data[\"List-Time-Min\"]\n",
    "        list_time_max_occ_1 = data[\"List-Time-Max\"]\n",
    "\n",
    "        filename = str(parent_directory) + '/data/deadlock-elimination/Actual_' + str(adm_algo) + '_House-' + str(house_name) + '_Occupant-2.json'\n",
    "        with open(filename, \"r\") as file:\n",
    "            data = json.load(file)\n",
    "\n",
    "        list_time_min_occ_2 = data[\"List-Time-Min\"]\n",
    "        list_time_max_occ_2 = data[\"List-Time-Max\"]\n",
    "\n",
    "        without_appliances_attack_costs = AttackCost(house_name, dataframe, cleaned_dataframe_occ_1, cleaned_dataframe_occ_2, processed_dataframe, list_time_min_occ_1, list_time_max_occ_1, list_time_min_occ_2, list_time_max_occ_2, attack_schedule_1, attack_schedule_2, dict_control_cost, num_timeslots, num_zones, activity_zone_map, zone_cost).get_attack_costs_without_appliance_triggering()\n",
    "        with_appliances_attack_costs = AttackCost(house_name, dataframe, cleaned_dataframe_occ_1, cleaned_dataframe_occ_2, processed_dataframe, list_time_min_occ_1, list_time_max_occ_1, list_time_min_occ_2, list_time_max_occ_2, attack_schedule_1, attack_schedule_2, dict_control_cost, num_timeslots, num_zones, activity_zone_map, zone_cost).get_attack_costs_with_appliance_triggering().tolist()\n",
    "\n",
    "        house_names.append(house_name)\n",
    "        adm_algos.append(adm_algo)\n",
    "        costs.append(round(sum([a + b for a, b in zip(without_appliances_attack_costs, with_appliances_attack_costs)]), 2))\n",
    "\n",
    "shatter_actual_adm[\"Houses\"] = house_names        \n",
    "shatter_actual_adm[\"ADM Algos\"] = adm_algos          \n",
    "shatter_actual_adm[\"Costs\"] = costs"
   ]
  },
  {
   "cell_type": "code",
   "execution_count": 15,
   "id": "8c9560b3",
   "metadata": {},
   "outputs": [
    {
     "data": {
      "text/html": [
       "<div>\n",
       "<style scoped>\n",
       "    .dataframe tbody tr th:only-of-type {\n",
       "        vertical-align: middle;\n",
       "    }\n",
       "\n",
       "    .dataframe tbody tr th {\n",
       "        vertical-align: top;\n",
       "    }\n",
       "\n",
       "    .dataframe thead th {\n",
       "        text-align: right;\n",
       "    }\n",
       "</style>\n",
       "<table border=\"1\" class=\"dataframe\">\n",
       "  <thead>\n",
       "    <tr style=\"text-align: right;\">\n",
       "      <th></th>\n",
       "      <th>Houses</th>\n",
       "      <th>ADM Algos</th>\n",
       "      <th>Costs</th>\n",
       "    </tr>\n",
       "  </thead>\n",
       "  <tbody>\n",
       "    <tr>\n",
       "      <th>0</th>\n",
       "      <td>A</td>\n",
       "      <td>DBSCAN</td>\n",
       "      <td>465.88</td>\n",
       "    </tr>\n",
       "    <tr>\n",
       "      <th>1</th>\n",
       "      <td>B</td>\n",
       "      <td>DBSCAN</td>\n",
       "      <td>156.19</td>\n",
       "    </tr>\n",
       "  </tbody>\n",
       "</table>\n",
       "</div>"
      ],
      "text/plain": [
       "  Houses ADM Algos   Costs\n",
       "0      A    DBSCAN  465.88\n",
       "1      B    DBSCAN  156.19"
      ]
     },
     "execution_count": 15,
     "metadata": {},
     "output_type": "execute_result"
    }
   ],
   "source": [
    "shatter_actual_adm"
   ]
  },
  {
   "cell_type": "markdown",
   "id": "7051e100",
   "metadata": {},
   "source": [
    "# (SHATTER) Tabulating Cost for Linearized ADM"
   ]
  },
  {
   "cell_type": "code",
   "execution_count": 16,
   "id": "2a5bf061",
   "metadata": {},
   "outputs": [
    {
     "name": "stdout",
     "output_type": "stream",
     "text": [
      "A DBSCAN\n",
      "B DBSCAN\n"
     ]
    }
   ],
   "source": [
    "shatter_linearized_adm = pd.DataFrame()\n",
    "\n",
    "house_names = []\n",
    "adm_algos = []\n",
    "costs = []\n",
    "for house_name in ['A', 'B']:\n",
    "    for adm_algo in [\"DBSCAN\"]:\n",
    "        print(house_name, adm_algo)\n",
    "        \n",
    "        control_costs = pd.read_csv(str(parent_directory) + '/data/control-costs/Control-Costs_House-' +str(house_name) +'.csv')['Control Cost ($)'] \n",
    "        day_wise_control_costs = []\n",
    "        for i in range(0, 43200, 1440):\n",
    "            day_wise_control_costs.append(sum(control_costs[i:i+1400]))\n",
    "\n",
    "        attack_schedule_1_file = str(parent_directory) + '/data/attack-schedules/shatter/Linearized_' + str(adm_algo) + '_House-' + str(house_name) + '_Occupant-1.json'\n",
    "        attack_schedule_2_file = str(parent_directory) + '/data/attack-schedules/shatter/Linearized_' + str(adm_algo) + '_House-' + str(house_name) + '_Occupant-2.json'\n",
    "\n",
    "        with open(attack_schedule_1_file, 'r') as file:\n",
    "            attack_schedule_1 = states_to_schedule(json.load(file)[\"All-States\"])\n",
    "\n",
    "        with open(attack_schedule_2_file, 'r') as file:\n",
    "            attack_schedule_2 = states_to_schedule(json.load(file)[\"All-States\"])\n",
    "\n",
    "        dataframe = pd.read_csv(str(parent_directory) + '/data/modified/' + 'Modified-Dataframe_House-' + str(house_name) + '.csv')\n",
    "        cleaned_dataframe_occ_1 = pd.read_csv(str(parent_directory) + '/data/cleaned/' + 'Cleaned-Dataframe_House-' + str(house_name) + '_Occupant-1' + '.csv')\n",
    "        cleaned_dataframe_occ_2 = pd.read_csv(str(parent_directory) + '/data/cleaned/' + 'Cleaned-Dataframe_House-' + str(house_name) + '_Occupant-2' + '.csv')\n",
    "\n",
    "        processed_dataframe = pd.read_csv(str(parent_directory) + '/data/processed/' + 'Processed-Dataframe_House-' + str(house_name) + '.csv')\n",
    "\n",
    "        filename = str(parent_directory) + '/data/deadlock-elimination/Linearized_' + str(adm_algo) + '_House-' + str(house_name) + '_Occupant-1.json'\n",
    "        with open(filename, \"r\") as file:\n",
    "            data = json.load(file)\n",
    "\n",
    "        list_time_min_occ_1 = data[\"List-Time-Min\"]\n",
    "        list_time_max_occ_1 = data[\"List-Time-Max\"]\n",
    "\n",
    "        filename = str(parent_directory) + '/data/deadlock-elimination/Linearized_' + str(adm_algo) + '_House-' + str(house_name) + '_Occupant-2.json'\n",
    "        with open(filename, \"r\") as file:\n",
    "            data = json.load(file)\n",
    "\n",
    "        list_time_min_occ_2 = data[\"List-Time-Min\"]\n",
    "        list_time_max_occ_2 = data[\"List-Time-Max\"]\n",
    "\n",
    "        without_appliances_attack_costs = AttackCost(house_name, dataframe, cleaned_dataframe_occ_1, cleaned_dataframe_occ_2, processed_dataframe, list_time_min_occ_1, list_time_max_occ_1, list_time_min_occ_2, list_time_max_occ_2, attack_schedule_1, attack_schedule_2, dict_control_cost, num_timeslots, num_zones, activity_zone_map, zone_cost).get_attack_costs_without_appliance_triggering()\n",
    "        with_appliances_attack_costs = AttackCost(house_name, dataframe, cleaned_dataframe_occ_1, cleaned_dataframe_occ_2, processed_dataframe, list_time_min_occ_1, list_time_max_occ_1, list_time_min_occ_2, list_time_max_occ_2, attack_schedule_1, attack_schedule_2, dict_control_cost, num_timeslots, num_zones, activity_zone_map, zone_cost).get_attack_costs_with_appliance_triggering().tolist()\n",
    "\n",
    "        house_names.append(house_name)\n",
    "        adm_algos.append(adm_algo)\n",
    "        costs.append(round(sum([a + b for a, b in zip(without_appliances_attack_costs, with_appliances_attack_costs)]), 2))\n",
    "\n",
    "shatter_linearized_adm[\"Houses\"] = house_names        \n",
    "shatter_linearized_adm[\"ADM Algos\"] = adm_algos          \n",
    "shatter_linearized_adm[\"Costs\"] = costs"
   ]
  },
  {
   "cell_type": "code",
   "execution_count": 17,
   "id": "1c40cffa",
   "metadata": {},
   "outputs": [
    {
     "data": {
      "text/html": [
       "<div>\n",
       "<style scoped>\n",
       "    .dataframe tbody tr th:only-of-type {\n",
       "        vertical-align: middle;\n",
       "    }\n",
       "\n",
       "    .dataframe tbody tr th {\n",
       "        vertical-align: top;\n",
       "    }\n",
       "\n",
       "    .dataframe thead th {\n",
       "        text-align: right;\n",
       "    }\n",
       "</style>\n",
       "<table border=\"1\" class=\"dataframe\">\n",
       "  <thead>\n",
       "    <tr style=\"text-align: right;\">\n",
       "      <th></th>\n",
       "      <th>Houses</th>\n",
       "      <th>ADM Algos</th>\n",
       "      <th>Costs</th>\n",
       "    </tr>\n",
       "  </thead>\n",
       "  <tbody>\n",
       "    <tr>\n",
       "      <th>0</th>\n",
       "      <td>A</td>\n",
       "      <td>DBSCAN</td>\n",
       "      <td>399.80</td>\n",
       "    </tr>\n",
       "    <tr>\n",
       "      <th>1</th>\n",
       "      <td>B</td>\n",
       "      <td>DBSCAN</td>\n",
       "      <td>93.52</td>\n",
       "    </tr>\n",
       "  </tbody>\n",
       "</table>\n",
       "</div>"
      ],
      "text/plain": [
       "  Houses ADM Algos   Costs\n",
       "0      A    DBSCAN  399.80\n",
       "1      B    DBSCAN   93.52"
      ]
     },
     "execution_count": 17,
     "metadata": {},
     "output_type": "execute_result"
    }
   ],
   "source": [
    "shatter_linearized_adm"
   ]
  }
 ],
 "metadata": {
  "kernelspec": {
   "display_name": "Python 3 (ipykernel)",
   "language": "python",
   "name": "python3"
  },
  "language_info": {
   "codemirror_mode": {
    "name": "ipython",
    "version": 3
   },
   "file_extension": ".py",
   "mimetype": "text/x-python",
   "name": "python",
   "nbconvert_exporter": "python",
   "pygments_lexer": "ipython3",
   "version": "3.9.7"
  }
 },
 "nbformat": 4,
 "nbformat_minor": 5
}
