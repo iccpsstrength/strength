{
 "cells": [
  {
   "cell_type": "markdown",
   "id": "5e3ecb08",
   "metadata": {},
   "source": [
    "# Importing libraries"
   ]
  },
  {
   "cell_type": "code",
   "execution_count": 2,
   "id": "25f1073e",
   "metadata": {},
   "outputs": [],
   "source": [
    "import pandas as pd\n",
    "import numpy as np\n",
    "import math\n",
    "import os\n",
    "import sys\n",
    "import json\n",
    "import networkx as nx"
   ]
  },
  {
   "cell_type": "markdown",
   "id": "70e33a12",
   "metadata": {},
   "source": [
    "# Current and parent directories"
   ]
  },
  {
   "cell_type": "code",
   "execution_count": 4,
   "id": "43b47424",
   "metadata": {},
   "outputs": [],
   "source": [
    "current_directory = os.getcwd()\n",
    "parent_directory = os.path.dirname(current_directory)"
   ]
  },
  {
   "cell_type": "markdown",
   "id": "7cd17323",
   "metadata": {},
   "source": [
    "# Read zone information"
   ]
  },
  {
   "cell_type": "code",
   "execution_count": 6,
   "id": "21e9a6bd",
   "metadata": {},
   "outputs": [],
   "source": [
    "zones = pd.read_excel(str(parent_directory) + '/data/Aras-Information.xlsx', sheet_name='Zone-Info')\n",
    "num_zones = len(zones)"
   ]
  },
  {
   "cell_type": "markdown",
   "id": "0ce20d5b",
   "metadata": {},
   "source": [
    "# Parameters"
   ]
  },
  {
   "cell_type": "code",
   "execution_count": 8,
   "id": "afdc5398",
   "metadata": {},
   "outputs": [],
   "source": [
    "num_timeslots = 1440\n",
    "num_zones = 5"
   ]
  },
  {
   "cell_type": "markdown",
   "id": "44ad5fd6",
   "metadata": {},
   "source": [
    "# Save linearized attack schedule (STRENGTH) for all houses and occupants"
   ]
  },
  {
   "cell_type": "code",
   "execution_count": 10,
   "id": "3c221582",
   "metadata": {},
   "outputs": [
    {
     "name": "stdout",
     "output_type": "stream",
     "text": [
      "Linearized: House: A, Occupant: 1, ADM Algo: DBSCAN\n",
      "Linearized: House: A, Occupant: 2, ADM Algo: DBSCAN\n",
      "Linearized: House: B, Occupant: 1, ADM Algo: DBSCAN\n"
     ]
    },
    {
     "ename": "FileNotFoundError",
     "evalue": "[Errno 2] No such file or directory: 'C:\\\\Users\\\\nurim\\\\Downloads\\\\casas-dataset/data/deadlock-elimination/Linearized_DBSCAN_House-B_Occupant-1.json'",
     "output_type": "error",
     "traceback": [
      "\u001b[1;31m---------------------------------------------------------------------------\u001b[0m",
      "\u001b[1;31mFileNotFoundError\u001b[0m                         Traceback (most recent call last)",
      "Cell \u001b[1;32mIn[10], line 10\u001b[0m\n\u001b[0;32m      6\u001b[0m \u001b[38;5;28mprint\u001b[39m(\u001b[38;5;124m\"\u001b[39m\u001b[38;5;124mLinearized: House: \u001b[39m\u001b[38;5;124m\"\u001b[39m \u001b[38;5;241m+\u001b[39m \u001b[38;5;28mstr\u001b[39m(house_name) \u001b[38;5;241m+\u001b[39m \u001b[38;5;124m\"\u001b[39m\u001b[38;5;124m, Occupant: \u001b[39m\u001b[38;5;124m\"\u001b[39m \u001b[38;5;241m+\u001b[39m \u001b[38;5;28mstr\u001b[39m(occupant_id) \u001b[38;5;241m+\u001b[39m \u001b[38;5;124m\"\u001b[39m\u001b[38;5;124m, ADM Algo: \u001b[39m\u001b[38;5;124m\"\u001b[39m \u001b[38;5;241m+\u001b[39m \u001b[38;5;28mstr\u001b[39m(adm_algo))                  \n\u001b[0;32m      8\u001b[0m filename \u001b[38;5;241m=\u001b[39m \u001b[38;5;28mstr\u001b[39m(parent_directory) \u001b[38;5;241m+\u001b[39m \u001b[38;5;124m'\u001b[39m\u001b[38;5;124m/data/deadlock-elimination/Linearized_\u001b[39m\u001b[38;5;124m'\u001b[39m \u001b[38;5;241m+\u001b[39m \u001b[38;5;28mstr\u001b[39m(adm_algo) \u001b[38;5;241m+\u001b[39m \u001b[38;5;124m'\u001b[39m\u001b[38;5;124m_House-\u001b[39m\u001b[38;5;124m'\u001b[39m \u001b[38;5;241m+\u001b[39m \u001b[38;5;28mstr\u001b[39m(house_name) \u001b[38;5;241m+\u001b[39m \u001b[38;5;124m'\u001b[39m\u001b[38;5;124m_Occupant-\u001b[39m\u001b[38;5;124m'\u001b[39m \u001b[38;5;241m+\u001b[39m \u001b[38;5;28mstr\u001b[39m(occupant_id) \u001b[38;5;241m+\u001b[39m \u001b[38;5;124m'\u001b[39m\u001b[38;5;124m.json\u001b[39m\u001b[38;5;124m'\u001b[39m\n\u001b[1;32m---> 10\u001b[0m \u001b[38;5;28;01mwith\u001b[39;00m \u001b[38;5;28mopen\u001b[39m(filename, \u001b[38;5;124m\"\u001b[39m\u001b[38;5;124mr\u001b[39m\u001b[38;5;124m\"\u001b[39m) \u001b[38;5;28;01mas\u001b[39;00m file:\n\u001b[0;32m     11\u001b[0m     data \u001b[38;5;241m=\u001b[39m json\u001b[38;5;241m.\u001b[39mload(file)\n\u001b[0;32m     13\u001b[0m rewards \u001b[38;5;241m=\u001b[39m [\u001b[38;5;241m0\u001b[39m, \u001b[38;5;241m1\u001b[39m, \u001b[38;5;241m2\u001b[39m, \u001b[38;5;241m4\u001b[39m, \u001b[38;5;241m3\u001b[39m]\n",
      "File \u001b[1;32m~\\anaconda3\\Lib\\site-packages\\IPython\\core\\interactiveshell.py:324\u001b[0m, in \u001b[0;36m_modified_open\u001b[1;34m(file, *args, **kwargs)\u001b[0m\n\u001b[0;32m    317\u001b[0m \u001b[38;5;28;01mif\u001b[39;00m file \u001b[38;5;129;01min\u001b[39;00m {\u001b[38;5;241m0\u001b[39m, \u001b[38;5;241m1\u001b[39m, \u001b[38;5;241m2\u001b[39m}:\n\u001b[0;32m    318\u001b[0m     \u001b[38;5;28;01mraise\u001b[39;00m \u001b[38;5;167;01mValueError\u001b[39;00m(\n\u001b[0;32m    319\u001b[0m         \u001b[38;5;124mf\u001b[39m\u001b[38;5;124m\"\u001b[39m\u001b[38;5;124mIPython won\u001b[39m\u001b[38;5;124m'\u001b[39m\u001b[38;5;124mt let you open fd=\u001b[39m\u001b[38;5;132;01m{\u001b[39;00mfile\u001b[38;5;132;01m}\u001b[39;00m\u001b[38;5;124m by default \u001b[39m\u001b[38;5;124m\"\u001b[39m\n\u001b[0;32m    320\u001b[0m         \u001b[38;5;124m\"\u001b[39m\u001b[38;5;124mas it is likely to crash IPython. If you know what you are doing, \u001b[39m\u001b[38;5;124m\"\u001b[39m\n\u001b[0;32m    321\u001b[0m         \u001b[38;5;124m\"\u001b[39m\u001b[38;5;124myou can use builtins\u001b[39m\u001b[38;5;124m'\u001b[39m\u001b[38;5;124m open.\u001b[39m\u001b[38;5;124m\"\u001b[39m\n\u001b[0;32m    322\u001b[0m     )\n\u001b[1;32m--> 324\u001b[0m \u001b[38;5;28;01mreturn\u001b[39;00m io_open(file, \u001b[38;5;241m*\u001b[39margs, \u001b[38;5;241m*\u001b[39m\u001b[38;5;241m*\u001b[39mkwargs)\n",
      "\u001b[1;31mFileNotFoundError\u001b[0m: [Errno 2] No such file or directory: 'C:\\\\Users\\\\nurim\\\\Downloads\\\\casas-dataset/data/deadlock-elimination/Linearized_DBSCAN_House-B_Occupant-1.json'"
     ]
    }
   ],
   "source": [
    "strength_attack_costs_actual = dict()\n",
    "\n",
    "adm_algo = 'DBSCAN'\n",
    "for house_name in ['A']:\n",
    "    for occupant_id in ['1', '2']:\n",
    "        print(\"Linearized: House: \" + str(house_name) + \", Occupant: \" + str(occupant_id) + \", ADM Algo: \" + str(adm_algo))                  \n",
    "\n",
    "        filename = str(parent_directory) + '/data/deadlock-elimination/Linearized_' + str(adm_algo) + '_House-' + str(house_name) + '_Occupant-' + str(occupant_id) + '.json'\n",
    "\n",
    "        with open(filename, \"r\") as file:\n",
    "            data = json.load(file)\n",
    "\n",
    "        rewards = [0, 1, 2, 4, 3]\n",
    "        states = data[\"States\"]\n",
    "        next_states = data[\"Next-States\"]\n",
    "\n",
    "        my_graph = nx.DiGraph()         \n",
    "        for i in range(len(states)):\n",
    "            state = states[i]\n",
    "            arrival_time = int(state.split('-')[0])\n",
    "            arrival_zone = int(state.split('-')[1])\n",
    "            state_stay_duration = int(state.split('-')[2])\n",
    "            try:\n",
    "                for j in next_states[str(i)]:\n",
    "                    if j == -1:\n",
    "                        my_graph.add_edge(state, '0-0-0', weight = 0)\n",
    "                        continue\n",
    "\n",
    "                    next_state = states[j]\n",
    "                    next_arrival_time = int(next_state.split('-')[0])\n",
    "                    next_arrival_zone = int(next_state.split('-')[1])\n",
    "                    next_state_stay_duration = int(next_state.split('-')[2])\n",
    "\n",
    "                    if next_arrival_zone == arrival_zone:\n",
    "                        my_graph.add_edge(state, next_state, weight = (next_state_stay_duration - state_stay_duration) * rewards[arrival_zone])\n",
    "                    else:\n",
    "                        my_graph.add_edge(state, next_state, weight = next_state_stay_duration  * rewards[next_arrival_zone])\n",
    "            except:\n",
    "                pass\n",
    "\n",
    "        source_node = '0-0-0'\n",
    "\n",
    "        current_source_nodes = [node for node in my_graph.nodes if my_graph.in_degree(node) == 0]\n",
    "\n",
    "        # remove nodes whose arrival_time! = 0 and does not have any preceeding node\n",
    "        nodes_to_remove = []\n",
    "\n",
    "        for node in current_source_nodes:\n",
    "            arrival_time = int(node.split('-')[0])\n",
    "            if arrival_time != 0:\n",
    "                nodes_to_remove.append(node)\n",
    "\n",
    "        current_source_nodes = [node for node in current_source_nodes if node not in nodes_to_remove]\n",
    "\n",
    "        for node in current_source_nodes:\n",
    "            node_state_stay_duration = int(node.split('-')[2])\n",
    "            my_graph.add_edge(source_node, node, weight = node_state_stay_duration)\n",
    "\n",
    "        # Get all nodes reachable from the source node\n",
    "        reachable_nodes = nx.descendants(my_graph, source_node)\n",
    "        reachable_nodes.add(source_node)\n",
    "\n",
    "        # Create a subgraph containing only the reachable nodes\n",
    "        my_graph = my_graph.subgraph(reachable_nodes)    \n",
    "\n",
    "        longest_path = nx.dag_longest_path(my_graph, weight = 'weight')    \n",
    "        len_longest_path = nx.dag_longest_path_length(my_graph, weight = 'weight')\n",
    "\n",
    "        attack_schedule = {\"Longest-Path\" : longest_path, \"Longest-Path-Length\" : len_longest_path, \"Number-of-Nodes\" : my_graph.number_of_nodes(), \"Number-of-Edges:\" : my_graph.number_of_edges()}\n",
    "\n",
    "        output_filename = str(parent_directory) + '/data/attack-schedules/strength/Linearized_' + str(adm_algo) + '_House-' + str(house_name) + '_Occupant-' + str(occupant_id) + '.json'\n",
    "\n",
    "        with open(output_filename, \"w\") as json_file:\n",
    "            json.dump(attack_schedule, json_file)"
   ]
  },
  {
   "cell_type": "markdown",
   "id": "a40b3430",
   "metadata": {},
   "source": [
    "# Save actual attack schedule (STRENGTH) for all houses and occupants"
   ]
  },
  {
   "cell_type": "code",
   "execution_count": null,
   "id": "09444169",
   "metadata": {},
   "outputs": [],
   "source": [
    "strength_attack_costs_actual = dict()\n",
    "\n",
    "adm_algo = 'DBSCAN'\n",
    "for house_name in ['A']:\n",
    "    for occupant_id in ['1', '2']:\n",
    "        print(\"Actual: House: \" + str(house_name) + \", Occupant: \" + str(occupant_id) + \", ADM Algo: \" + str(adm_algo))                  \n",
    "\n",
    "        filename = str(parent_directory) + '/data/deadlock-elimination/Actual_' + str(adm_algo) + '_House-' + str(house_name) + '_Occupant-' + str(occupant_id) + '.json'\n",
    "\n",
    "        with open(filename, \"r\") as file:\n",
    "            data = json.load(file)\n",
    "\n",
    "        rewards = [0, 1, 2, 4, 3]\n",
    "        states = data[\"States\"]\n",
    "        next_states = data[\"Next-States\"]\n",
    "\n",
    "        my_graph = nx.DiGraph()         \n",
    "        for i in range(len(states)):\n",
    "            state = states[i]\n",
    "            arrival_time = int(state.split('-')[0])\n",
    "            arrival_zone = int(state.split('-')[1])\n",
    "            state_stay_duration = int(state.split('-')[2])\n",
    "            try:\n",
    "                for j in next_states[str(i)]:\n",
    "                    if j == -1:\n",
    "                        my_graph.add_edge(state, '0-0-0', weight = 0)\n",
    "                        continue\n",
    "\n",
    "                    next_state = states[j]\n",
    "                    next_arrival_time = int(next_state.split('-')[0])\n",
    "                    next_arrival_zone = int(next_state.split('-')[1])\n",
    "                    next_state_stay_duration = int(next_state.split('-')[2])\n",
    "\n",
    "                    if next_arrival_zone == arrival_zone:\n",
    "                        my_graph.add_edge(state, next_state, weight = (next_state_stay_duration - state_stay_duration) * rewards[arrival_zone])\n",
    "                    else:\n",
    "                        my_graph.add_edge(state, next_state, weight = next_state_stay_duration  * rewards[next_arrival_zone])\n",
    "            except:\n",
    "                pass\n",
    "\n",
    "        source_node = '0-0-0'\n",
    "\n",
    "        current_source_nodes = [node for node in my_graph.nodes if my_graph.in_degree(node) == 0]\n",
    "\n",
    "        # remove nodes whose arrival_time! = 0 and does not have any preceeding node\n",
    "        nodes_to_remove = []\n",
    "\n",
    "        for node in current_source_nodes:\n",
    "            arrival_time = int(node.split('-')[0])\n",
    "            if arrival_time != 0:\n",
    "                nodes_to_remove.append(node)\n",
    "\n",
    "        current_source_nodes = [node for node in current_source_nodes if node not in nodes_to_remove]\n",
    "\n",
    "        for node in current_source_nodes:\n",
    "            node_state_stay_duration = int(node.split('-')[2])\n",
    "            my_graph.add_edge(source_node, node, weight = node_state_stay_duration)\n",
    "\n",
    "        # Get all nodes reachable from the source node\n",
    "        reachable_nodes = nx.descendants(my_graph, source_node)\n",
    "        reachable_nodes.add(source_node)\n",
    "\n",
    "        # Create a subgraph containing only the reachable nodes\n",
    "        my_graph = my_graph.subgraph(reachable_nodes)    \n",
    "\n",
    "        longest_path = nx.dag_longest_path(my_graph, weight = 'weight')    \n",
    "        len_longest_path = nx.dag_longest_path_length(my_graph, weight = 'weight')\n",
    "\n",
    "        attack_schedule = {\"Longest-Path\" : longest_path, \"Longest-Path-Length\" : len_longest_path, \"Number-of-Nodes\" : my_graph.number_of_nodes(), \"Number-of-Edges:\" : my_graph.number_of_edges()}\n",
    "\n",
    "        output_filename = str(parent_directory) + '/data/attack-schedules/strength/Actual_' + str(adm_algo) + '_House-' + str(house_name) + '_Occupant-' + str(occupant_id) + '.json'\n",
    "\n",
    "        with open(output_filename, \"w\") as json_file:\n",
    "            json.dump(attack_schedule, json_file)"
   ]
  }
 ],
 "metadata": {
  "kernelspec": {
   "display_name": "Python 3 (ipykernel)",
   "language": "python",
   "name": "python3"
  },
  "language_info": {
   "codemirror_mode": {
    "name": "ipython",
    "version": 3
   },
   "file_extension": ".py",
   "mimetype": "text/x-python",
   "name": "python",
   "nbconvert_exporter": "python",
   "pygments_lexer": "ipython3",
   "version": "3.12.4"
  }
 },
 "nbformat": 4,
 "nbformat_minor": 5
}
