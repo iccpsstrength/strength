{
 "cells": [
  {
   "cell_type": "markdown",
   "id": "c9fa81cb",
   "metadata": {},
   "source": [
    "# Import libraries"
   ]
  },
  {
   "cell_type": "code",
   "execution_count": 2,
   "id": "c27396fa",
   "metadata": {},
   "outputs": [],
   "source": [
    "import pandas as pd\n",
    "import numpy as np\n",
    "import math\n",
    "import os"
   ]
  },
  {
   "cell_type": "markdown",
   "id": "6a133ba2",
   "metadata": {},
   "source": [
    "# Current and parent directories"
   ]
  },
  {
   "cell_type": "code",
   "execution_count": 4,
   "id": "7828f975",
   "metadata": {},
   "outputs": [],
   "source": [
    "current_directory = os.getcwd()\n",
    "parent_directory = os.path.dirname(current_directory)"
   ]
  },
  {
   "cell_type": "markdown",
   "id": "aa893925",
   "metadata": {},
   "source": [
    "# Read activity information"
   ]
  },
  {
   "cell_type": "code",
   "execution_count": 6,
   "id": "e295904d",
   "metadata": {},
   "outputs": [
    {
     "data": {
      "text/html": [
       "<div>\n",
       "<style scoped>\n",
       "    .dataframe tbody tr th:only-of-type {\n",
       "        vertical-align: middle;\n",
       "    }\n",
       "\n",
       "    .dataframe tbody tr th {\n",
       "        vertical-align: top;\n",
       "    }\n",
       "\n",
       "    .dataframe thead th {\n",
       "        text-align: right;\n",
       "    }\n",
       "</style>\n",
       "<table border=\"1\" class=\"dataframe\">\n",
       "  <thead>\n",
       "    <tr style=\"text-align: right;\">\n",
       "      <th></th>\n",
       "      <th>Activity ID</th>\n",
       "      <th>Acitivity</th>\n",
       "      <th>Zone ID</th>\n",
       "      <th>Zone</th>\n",
       "      <th>Physical activity levels (M) (met)</th>\n",
       "      <th>Scale of CO2 Generation for 21-30 age group (L/s)</th>\n",
       "      <th>CO2 Emission by Occupant (L/s)</th>\n",
       "      <th>CO2 Emission by Occupant (CFM)</th>\n",
       "      <th>Heat Radiation by Occupant (kW)</th>\n",
       "      <th>Heat Radiation by Occupant (W)</th>\n",
       "    </tr>\n",
       "  </thead>\n",
       "  <tbody>\n",
       "    <tr>\n",
       "      <th>0</th>\n",
       "      <td>1</td>\n",
       "      <td>Other</td>\n",
       "      <td>0</td>\n",
       "      <td>Outside</td>\n",
       "      <td>0.0</td>\n",
       "      <td>-0.9961</td>\n",
       "      <td>0.00000</td>\n",
       "      <td>0.000000</td>\n",
       "      <td>0.000000</td>\n",
       "      <td>0.000000</td>\n",
       "    </tr>\n",
       "    <tr>\n",
       "      <th>1</th>\n",
       "      <td>2</td>\n",
       "      <td>Fill medication dispenser</td>\n",
       "      <td>3</td>\n",
       "      <td>Kitchen</td>\n",
       "      <td>2.8</td>\n",
       "      <td>0.0039</td>\n",
       "      <td>0.01092</td>\n",
       "      <td>0.023139</td>\n",
       "      <td>0.113268</td>\n",
       "      <td>113.267755</td>\n",
       "    </tr>\n",
       "    <tr>\n",
       "      <th>2</th>\n",
       "      <td>3</td>\n",
       "      <td>Hang up clothes</td>\n",
       "      <td>1</td>\n",
       "      <td>Bedroom</td>\n",
       "      <td>2.2</td>\n",
       "      <td>0.0039</td>\n",
       "      <td>0.00858</td>\n",
       "      <td>0.018181</td>\n",
       "      <td>0.088996</td>\n",
       "      <td>88.996093</td>\n",
       "    </tr>\n",
       "    <tr>\n",
       "      <th>3</th>\n",
       "      <td>4</td>\n",
       "      <td>Move the couch</td>\n",
       "      <td>2</td>\n",
       "      <td>Livingroom</td>\n",
       "      <td>4.0</td>\n",
       "      <td>0.0039</td>\n",
       "      <td>0.01560</td>\n",
       "      <td>0.033056</td>\n",
       "      <td>0.161811</td>\n",
       "      <td>161.811078</td>\n",
       "    </tr>\n",
       "    <tr>\n",
       "      <th>4</th>\n",
       "      <td>5</td>\n",
       "      <td>Sit on the couch</td>\n",
       "      <td>2</td>\n",
       "      <td>Livingroom</td>\n",
       "      <td>1.5</td>\n",
       "      <td>0.0039</td>\n",
       "      <td>0.00585</td>\n",
       "      <td>0.012396</td>\n",
       "      <td>0.060679</td>\n",
       "      <td>60.679154</td>\n",
       "    </tr>\n",
       "  </tbody>\n",
       "</table>\n",
       "</div>"
      ],
      "text/plain": [
       "   Activity ID                  Acitivity  Zone ID        Zone  \\\n",
       "0            1                      Other        0     Outside   \n",
       "1            2  Fill medication dispenser        3     Kitchen   \n",
       "2            3            Hang up clothes        1     Bedroom   \n",
       "3            4             Move the couch        2  Livingroom   \n",
       "4            5           Sit on the couch        2  Livingroom   \n",
       "\n",
       "   Physical activity levels (M) (met)  \\\n",
       "0                                 0.0   \n",
       "1                                 2.8   \n",
       "2                                 2.2   \n",
       "3                                 4.0   \n",
       "4                                 1.5   \n",
       "\n",
       "   Scale of CO2 Generation for 21-30 age group (L/s)  \\\n",
       "0                                            -0.9961   \n",
       "1                                             0.0039   \n",
       "2                                             0.0039   \n",
       "3                                             0.0039   \n",
       "4                                             0.0039   \n",
       "\n",
       "   CO2 Emission by Occupant (L/s)  CO2 Emission by Occupant (CFM)  \\\n",
       "0                         0.00000                        0.000000   \n",
       "1                         0.01092                        0.023139   \n",
       "2                         0.00858                        0.018181   \n",
       "3                         0.01560                        0.033056   \n",
       "4                         0.00585                        0.012396   \n",
       "\n",
       "   Heat Radiation by Occupant (kW)  Heat Radiation by Occupant (W)  \n",
       "0                         0.000000                        0.000000  \n",
       "1                         0.113268                      113.267755  \n",
       "2                         0.088996                       88.996093  \n",
       "3                         0.161811                      161.811078  \n",
       "4                         0.060679                       60.679154  "
      ]
     },
     "execution_count": 6,
     "metadata": {},
     "output_type": "execute_result"
    }
   ],
   "source": [
    "activities = pd.read_excel(str(parent_directory) + '/data/Aras-Information.xlsx', sheet_name='Activity-Info')\n",
    "activities.head()"
   ]
  },
  {
   "cell_type": "markdown",
   "id": "9aa53b4b",
   "metadata": {},
   "source": [
    "# Accessing activity-zone mapping information"
   ]
  },
  {
   "cell_type": "code",
   "execution_count": 8,
   "id": "c015b0ab",
   "metadata": {},
   "outputs": [],
   "source": [
    "activity_zone_map = dict()\n",
    "for i in range(len(activities)):\n",
    "    activity_zone_map[int(activities[\"Activity ID\"][i])] = int(activities[\"Zone ID\"][i])"
   ]
  },
  {
   "cell_type": "markdown",
   "id": "77a8d573",
   "metadata": {},
   "source": [
    "# Fixed parameters"
   ]
  },
  {
   "cell_type": "code",
   "execution_count": 10,
   "id": "9261e703",
   "metadata": {},
   "outputs": [],
   "source": [
    "NUM_DAYS = 16\n",
    "NUM_ACTIVITIES = len(activities)"
   ]
  },
  {
   "cell_type": "markdown",
   "id": "89299958",
   "metadata": {},
   "source": [
    "# Dataset cleaning function"
   ]
  },
  {
   "cell_type": "code",
   "execution_count": 12,
   "id": "f84ddf19",
   "metadata": {},
   "outputs": [],
   "source": [
    "def dataset_cleaning(input_directory, house_name, occupant_id, output_filename):\n",
    "    \n",
    "    records = []\n",
    "\n",
    "    for day in range(1, NUM_DAYS + 1):    \n",
    "        print(\"Cleaned ...\", \"House\", house_name, \"Day\", day)\n",
    "        # Importing dataset\n",
    "        raw_data_filename = str(input_directory) + str(day) + '.txt'\n",
    "        raw_dataframe =  pd.read_csv(str(raw_data_filename), header=None, sep = ' ').iloc[:, -2:]  \n",
    "\n",
    "        # Establishing column names to make it easier to work with\n",
    "        raw_dataframe.columns = ['Occ-1','Occ-2']\n",
    "\n",
    "        # We will just work with the specified occupant in the function argument\n",
    "        activities_occupant = raw_dataframe['Occ-' + str(occupant_id)].to_list()\n",
    "        \n",
    "        arrival_times_occupant = []\n",
    "        zones_occupant = []\n",
    "        zone_activities_occupant = []\n",
    "\n",
    "        prev_zone_occupant = -1\n",
    "\n",
    "        # Checking at each minute sampling time\n",
    "        for second in range(0, len(activities_occupant) - 60, 60):\n",
    "            minute = int(math.ceil(second / 60))\n",
    "            current_zone_occupant = activity_zone_map[activities_occupant[second]]\n",
    "            \n",
    "            \n",
    "            if prev_zone_occupant != current_zone_occupant:\n",
    "                arrival_times_occupant.append(minute)\n",
    "                zones_occupant.append(current_zone_occupant)\n",
    "                zone_activities_occupant.append(activities_occupant[second])\n",
    "                prev_zone_occupant = current_zone_occupant\n",
    "\n",
    "            prev_activity_occupant = activities_occupant[second]\n",
    "\n",
    "        exit_times_occupant = []\n",
    "\n",
    "        for et in range(1, len(arrival_times_occupant)):\n",
    "            exit_times_occupant.append(arrival_times_occupant[et] - 1)\n",
    "        \n",
    "        # The final exit time will be 1439 (last minute of the day since starting from 0 minutes)\n",
    "        exit_times_occupant.append(1439)\n",
    "\n",
    "        for et in range(len(arrival_times_occupant)):\n",
    "            stay_duration = exit_times_occupant[et] - arrival_times_occupant[et] + 1\n",
    "            if stay_duration == 0 and et != len(arrival_times_occupant) - 1:\n",
    "                arrival_times_occupant[et + 1] -= 1\n",
    "            else:\n",
    "                records.append([day, zone_activities_occupant[et], zones_occupant[et], arrival_times_occupant[et], exit_times_occupant[et], stay_duration])      \n",
    "    \n",
    "    cleaned_dataframe = pd.DataFrame(columns = ['Day', 'Occupant\\'s Activity', 'Occupant\\'s Zone', 'Zone Arrival Time (Minute)', 'Zone Leaving Time (Minute)', 'Stay Duration (Minute)'], data = records)\n",
    "    cleaned_dataframe.to_csv(output_filename, index=False)"
   ]
  },
  {
   "cell_type": "markdown",
   "id": "54c65e82",
   "metadata": {},
   "source": [
    "# Creating cleaned dataframe for both houses and all occupants"
   ]
  },
  {
   "cell_type": "code",
   "execution_count": 14,
   "id": "789fcd87",
   "metadata": {},
   "outputs": [
    {
     "name": "stderr",
     "output_type": "stream",
     "text": [
      "<>:3: SyntaxWarning: invalid escape sequence '\\d'\n",
      "<>:4: SyntaxWarning: invalid escape sequence '\\d'\n",
      "<>:3: SyntaxWarning: invalid escape sequence '\\d'\n",
      "<>:4: SyntaxWarning: invalid escape sequence '\\d'\n",
      "C:\\Users\\nurim\\AppData\\Local\\Temp\\ipykernel_27128\\144550712.py:3: SyntaxWarning: invalid escape sequence '\\d'\n",
      "  input_directory = str(parent_directory) + '\\data\\\\raw\\\\house-' + house_name + '\\\\DAY-'\n",
      "C:\\Users\\nurim\\AppData\\Local\\Temp\\ipykernel_27128\\144550712.py:4: SyntaxWarning: invalid escape sequence '\\d'\n",
      "  output_filename = str(parent_directory) + '\\data\\\\cleaned\\\\' + 'Cleaned-Dataframe_House-' + str(house_name) + '_Occupant-' + str(occupant_id) + '.csv'\n"
     ]
    },
    {
     "name": "stdout",
     "output_type": "stream",
     "text": [
      "Cleaned ... House A Day 1\n"
     ]
    },
    {
     "name": "stderr",
     "output_type": "stream",
     "text": [
      "C:\\Users\\nurim\\AppData\\Local\\Temp\\ipykernel_27128\\144550712.py:3: SyntaxWarning: invalid escape sequence '\\d'\n",
      "  input_directory = str(parent_directory) + '\\data\\\\raw\\\\house-' + house_name + '\\\\DAY-'\n",
      "C:\\Users\\nurim\\AppData\\Local\\Temp\\ipykernel_27128\\144550712.py:4: SyntaxWarning: invalid escape sequence '\\d'\n",
      "  output_filename = str(parent_directory) + '\\data\\\\cleaned\\\\' + 'Cleaned-Dataframe_House-' + str(house_name) + '_Occupant-' + str(occupant_id) + '.csv'\n"
     ]
    },
    {
     "ename": "KeyError",
     "evalue": "0",
     "output_type": "error",
     "traceback": [
      "\u001b[1;31m---------------------------------------------------------------------------\u001b[0m",
      "\u001b[1;31mKeyError\u001b[0m                                  Traceback (most recent call last)",
      "Cell \u001b[1;32mIn[14], line 5\u001b[0m\n\u001b[0;32m      3\u001b[0m input_directory \u001b[38;5;241m=\u001b[39m \u001b[38;5;28mstr\u001b[39m(parent_directory) \u001b[38;5;241m+\u001b[39m \u001b[38;5;124m'\u001b[39m\u001b[38;5;124m\\\u001b[39m\u001b[38;5;124mdata\u001b[39m\u001b[38;5;130;01m\\\\\u001b[39;00m\u001b[38;5;124mraw\u001b[39m\u001b[38;5;130;01m\\\\\u001b[39;00m\u001b[38;5;124mhouse-\u001b[39m\u001b[38;5;124m'\u001b[39m \u001b[38;5;241m+\u001b[39m house_name \u001b[38;5;241m+\u001b[39m \u001b[38;5;124m'\u001b[39m\u001b[38;5;130;01m\\\\\u001b[39;00m\u001b[38;5;124mDAY-\u001b[39m\u001b[38;5;124m'\u001b[39m\n\u001b[0;32m      4\u001b[0m output_filename \u001b[38;5;241m=\u001b[39m \u001b[38;5;28mstr\u001b[39m(parent_directory) \u001b[38;5;241m+\u001b[39m \u001b[38;5;124m'\u001b[39m\u001b[38;5;124m\\\u001b[39m\u001b[38;5;124mdata\u001b[39m\u001b[38;5;130;01m\\\\\u001b[39;00m\u001b[38;5;124mcleaned\u001b[39m\u001b[38;5;130;01m\\\\\u001b[39;00m\u001b[38;5;124m'\u001b[39m \u001b[38;5;241m+\u001b[39m \u001b[38;5;124m'\u001b[39m\u001b[38;5;124mCleaned-Dataframe_House-\u001b[39m\u001b[38;5;124m'\u001b[39m \u001b[38;5;241m+\u001b[39m \u001b[38;5;28mstr\u001b[39m(house_name) \u001b[38;5;241m+\u001b[39m \u001b[38;5;124m'\u001b[39m\u001b[38;5;124m_Occupant-\u001b[39m\u001b[38;5;124m'\u001b[39m \u001b[38;5;241m+\u001b[39m \u001b[38;5;28mstr\u001b[39m(occupant_id) \u001b[38;5;241m+\u001b[39m \u001b[38;5;124m'\u001b[39m\u001b[38;5;124m.csv\u001b[39m\u001b[38;5;124m'\u001b[39m\n\u001b[1;32m----> 5\u001b[0m dataset_cleaning(input_directory, house_name, occupant_id, output_filename)\n",
      "Cell \u001b[1;32mIn[12], line 26\u001b[0m, in \u001b[0;36mdataset_cleaning\u001b[1;34m(input_directory, house_name, occupant_id, output_filename)\u001b[0m\n\u001b[0;32m     24\u001b[0m \u001b[38;5;28;01mfor\u001b[39;00m second \u001b[38;5;129;01min\u001b[39;00m \u001b[38;5;28mrange\u001b[39m(\u001b[38;5;241m0\u001b[39m, \u001b[38;5;28mlen\u001b[39m(activities_occupant) \u001b[38;5;241m-\u001b[39m \u001b[38;5;241m60\u001b[39m, \u001b[38;5;241m60\u001b[39m):\n\u001b[0;32m     25\u001b[0m     minute \u001b[38;5;241m=\u001b[39m \u001b[38;5;28mint\u001b[39m(math\u001b[38;5;241m.\u001b[39mceil(second \u001b[38;5;241m/\u001b[39m \u001b[38;5;241m60\u001b[39m))\n\u001b[1;32m---> 26\u001b[0m     current_zone_occupant \u001b[38;5;241m=\u001b[39m activity_zone_map[activities_occupant[second]]\n\u001b[0;32m     29\u001b[0m     \u001b[38;5;28;01mif\u001b[39;00m prev_zone_occupant \u001b[38;5;241m!=\u001b[39m current_zone_occupant:\n\u001b[0;32m     30\u001b[0m         arrival_times_occupant\u001b[38;5;241m.\u001b[39mappend(minute)\n",
      "\u001b[1;31mKeyError\u001b[0m: 0"
     ]
    }
   ],
   "source": [
    "for house_name in ['A']:\n",
    "    for occupant_id in ['1', '2']:\n",
    "        input_directory = str(parent_directory) + '\\data\\\\raw\\\\house-' + house_name + '\\\\DAY-'\n",
    "        output_filename = str(parent_directory) + '\\data\\\\cleaned\\\\' + 'Cleaned-Dataframe_House-' + str(house_name) + '_Occupant-' + str(occupant_id) + '.csv'\n",
    "        dataset_cleaning(input_directory, house_name, occupant_id, output_filename)"
   ]
  },
  {
   "cell_type": "markdown",
   "id": "41dace6b",
   "metadata": {},
   "source": [
    "# Cheacking stay durations are all non zero"
   ]
  },
  {
   "cell_type": "code",
   "execution_count": null,
   "id": "484d7d69",
   "metadata": {},
   "outputs": [],
   "source": [
    "for house_name in ['A']:\n",
    "    for occupant_id in ['1', '2']:\n",
    "        dataframe = pd.read_csv(str(parent_directory) + '\\data\\\\cleaned\\\\' + 'Cleaned-Dataframe_House-' + str(house_name) + '_Occupant-' + str(occupant_id) + '.csv')\n",
    "        # Check if all values in column 'Stay Duration (Minute)' are non-zero\n",
    "        print(\"Checked House\", house_name, \"Occupant\", occupant_id, \"Dataframe... Is  it non zero?\", (dataframe['Stay Duration (Minute)'] != 0).all())"
   ]
  }
 ],
 "metadata": {
  "kernelspec": {
   "display_name": "Python 3 (ipykernel)",
   "language": "python",
   "name": "python3"
  },
  "language_info": {
   "codemirror_mode": {
    "name": "ipython",
    "version": 3
   },
   "file_extension": ".py",
   "mimetype": "text/x-python",
   "name": "python",
   "nbconvert_exporter": "python",
   "pygments_lexer": "ipython3",
   "version": "3.12.4"
  }
 },
 "nbformat": 4,
 "nbformat_minor": 5
}
