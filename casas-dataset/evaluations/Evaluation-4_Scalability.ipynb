{
 "cells": [
  {
   "cell_type": "markdown",
   "id": "3f8599ec",
   "metadata": {},
   "source": [
    "# Import libraries"
   ]
  },
  {
   "cell_type": "code",
   "execution_count": 9,
   "id": "554519c6",
   "metadata": {},
   "outputs": [],
   "source": [
    "import pandas as pd\n",
    "import numpy as np\n",
    "import math\n",
    "import os\n",
    "import sys\n",
    "import json\n",
    "import time\n",
    "import networkx as nx\n",
    "sys.path.append(\"../scripts/\")\n",
    "from ActualADM import *\n",
    "from LinearizedADM import *\n",
    "from DeadlockElimination import *"
   ]
  },
  {
   "cell_type": "markdown",
   "id": "78265d3b",
   "metadata": {},
   "source": [
    "# Current and parent directories"
   ]
  },
  {
   "cell_type": "code",
   "execution_count": 4,
   "id": "67fa2dfd",
   "metadata": {},
   "outputs": [],
   "source": [
    "current_directory = os.getcwd()\n",
    "parent_directory = os.path.dirname(current_directory)"
   ]
  },
  {
   "cell_type": "markdown",
   "id": "0645ce12",
   "metadata": {},
   "source": [
    "# Read zone information"
   ]
  },
  {
   "cell_type": "code",
   "execution_count": 6,
   "id": "4c035d77",
   "metadata": {},
   "outputs": [],
   "source": [
    "zones = pd.read_excel(str(parent_directory) + '/data/Aras-Information.xlsx', sheet_name='Zone-Info')\n",
    "num_zones = len(zones)"
   ]
  },
  {
   "cell_type": "code",
   "execution_count": 7,
   "id": "20be2dad",
   "metadata": {},
   "outputs": [
    {
     "name": "stdout",
     "output_type": "stream",
     "text": [
      "Actual: House: A, Occupant: 1, ADM Algo: DBSCAN, Number of Timeslots: 200\n",
      "Execution Time: 0.08307456970214844\n",
      "Actual: House: A, Occupant: 1, ADM Algo: DBSCAN, Number of Timeslots: 400\n",
      "Execution Time: 0.4933159351348877\n",
      "Actual: House: A, Occupant: 1, ADM Algo: DBSCAN, Number of Timeslots: 600\n",
      "Execution Time: 11.885222434997559\n",
      "Actual: House: A, Occupant: 1, ADM Algo: DBSCAN, Number of Timeslots: 800\n",
      "Execution Time: 21.193342685699463\n",
      "Actual: House: A, Occupant: 1, ADM Algo: DBSCAN, Number of Timeslots: 1000\n",
      "Execution Time: 39.80969285964966\n",
      "Actual: House: A, Occupant: 1, ADM Algo: DBSCAN, Number of Timeslots: 1200\n",
      "Execution Time: 57.12924861907959\n",
      "Actual: House: A, Occupant: 1, ADM Algo: DBSCAN, Number of Timeslots: 1400\n",
      "Execution Time: 78.63916897773743\n",
      "Actual: House: A, Occupant: 2, ADM Algo: DBSCAN, Number of Timeslots: 200\n",
      "Execution Time: 0.13098526000976562\n",
      "Actual: House: A, Occupant: 2, ADM Algo: DBSCAN, Number of Timeslots: 400\n",
      "Execution Time: 0.5186386108398438\n",
      "Actual: House: A, Occupant: 2, ADM Algo: DBSCAN, Number of Timeslots: 600\n",
      "Execution Time: 14.63585901260376\n",
      "Actual: House: A, Occupant: 2, ADM Algo: DBSCAN, Number of Timeslots: 800\n",
      "Execution Time: 25.91145348548889\n",
      "Actual: House: A, Occupant: 2, ADM Algo: DBSCAN, Number of Timeslots: 1000\n",
      "Execution Time: 40.9364173412323\n",
      "Actual: House: A, Occupant: 2, ADM Algo: DBSCAN, Number of Timeslots: 1200\n",
      "Execution Time: 58.36867332458496\n",
      "Actual: House: A, Occupant: 2, ADM Algo: DBSCAN, Number of Timeslots: 1400\n",
      "Execution Time: 78.47505903244019\n"
     ]
    }
   ],
   "source": [
    "adm_algo = \"DBSCAN\"\n",
    "for house_name in ['A']:\n",
    "    for occupant_id in ['1', '2']:\n",
    "        for num_timeslots in range(200, 1401, 200):\n",
    "            print(\"Actual: House: \" + str(house_name) + \", Occupant: \" + str(occupant_id) + \", ADM Algo: \" + str(adm_algo) + \", Number of Timeslots: \" + str(num_timeslots))                  \n",
    "            dataframe = pd.read_csv(str(parent_directory) + '/data/cleaned/' + 'Cleaned-Dataframe_House-' + str(house_name) + '_Occupant-' + str(occupant_id) + '.csv')                                                                                                       \n",
    "            actual_adm = ActualADM(adm_algo, dataframe, house_name, occupant_id, 1440, num_zones)\n",
    "            list_time_min, list_time_max = actual_adm.noise_augmented_range_calculation()\n",
    "            analytics = DeadlockElimination(num_timeslots, num_zones, list_time_min, list_time_max)\n",
    "            deadlock_info = analytics.deadlock_elimination()            \n",
    "            output_filename = str(parent_directory) + '/data/time-limited-deadlock-elimination/Actual_' + str(adm_algo) + '_House-' + str(house_name) + '_Occupant-' + str(occupant_id) + '_Timeslots-' + str(num_timeslots) + '.json'\n",
    "\n",
    "            with open(output_filename, \"w\") as json_file:\n",
    "                json.dump(deadlock_info, json_file)"
   ]
  }
 ],
 "metadata": {
  "kernelspec": {
   "display_name": "Python 3 (ipykernel)",
   "language": "python",
   "name": "python3"
  },
  "language_info": {
   "codemirror_mode": {
    "name": "ipython",
    "version": 3
   },
   "file_extension": ".py",
   "mimetype": "text/x-python",
   "name": "python",
   "nbconvert_exporter": "python",
   "pygments_lexer": "ipython3",
   "version": "3.12.4"
  }
 },
 "nbformat": 4,
 "nbformat_minor": 5
}
